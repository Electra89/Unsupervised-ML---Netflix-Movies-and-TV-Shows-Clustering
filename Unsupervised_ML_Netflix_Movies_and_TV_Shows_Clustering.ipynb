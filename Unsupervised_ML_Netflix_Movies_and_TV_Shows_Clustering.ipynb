{
  "nbformat": 4,
  "nbformat_minor": 0,
  "metadata": {
    "colab": {
      "provenance": [],
      "collapsed_sections": [
        "QHF8YVU7Yuh3",
        "GwzvFGzlYuh3",
        "qYpmQ266Yuh3",
        "OH-pJp9IphqM",
        "bbFf2-_FphqN",
        "_ouA3fa0phqN",
        "Seke61FWphqN",
        "PIIx-8_IphqN",
        "t27r6nlMphqO",
        "r2jJGEOYphqO",
        "b0JNsNcRphqO",
        "BZR9WyysphqO",
        "jj7wYXLtphqO",
        "eZrbJ2SmphqO",
        "rFu4xreNphqO",
        "YJ55k-q6phqO",
        "gCFgpxoyphqP",
        "OVtJsKN_phqQ",
        "lssrdh5qphqQ",
        "U2RJ9gkRphqQ",
        "1M8mcRywphqQ",
        "tgIPom80phqQ",
        "JMzcOPDDphqR",
        "x-EpHcCOp1ci",
        "X_VqEhTip1ck",
        "8zGJKyg5p1ck",
        "PVzmfK_Ep1ck",
        "n3dbpmDWp1ck",
        "ylSl6qgtp1ck",
        "ZWILFDl5p1ck",
        "M7G43BXep1ck",
        "Ag9LCva-p1cl",
        "E6MkPsBcp1cl",
        "2cELzS2fp1cl",
        "3MPXvC8up1cl",
        "NC_X3p0fY2L0",
        "UV0SzAkaZNRQ",
        "YPEH6qLeZNRQ",
        "q29F0dvdveiT",
        "EXh0U9oCveiU",
        "22aHeOlLveiV",
        "Nff-vKELpZyI",
        "kLW572S8pZyI",
        "dWbDXHzopZyI",
        "yLjJCtPM0KBk",
        "xiyOF9F70UgQ",
        "7wuGOrhz0itI",
        "id1riN9m0vUs",
        "578E2V7j08f6",
        "89xtkJwZ18nB",
        "67NQN5KX2AMe",
        "Iwf50b-R2tYG",
        "GMQiZwjn3iu7",
        "WVIkgGqN3qsr",
        "XkPnILGE3zoT",
        "Hlsf0x5436Go",
        "mT9DMSJo4nBL",
        "c49ITxTc407N",
        "OeJFEK0N496M",
        "9ExmJH0g5HBk",
        "cJNqERVU536h",
        "k5UmGsbsOxih",
        "T0VqWOYE6DLQ",
        "qBMux9mC6MCf",
        "-oLEiFgy-5Pf",
        "C74aWNz2AliB",
        "2DejudWSA-a0",
        "pEMng2IbBLp7",
        "rAdphbQ9Bhjc",
        "TNVZ9zx19K6k",
        "nqoHp30x9hH9",
        "rMDnDkt2B6du",
        "yiiVWRdJDDil",
        "1UUpS68QDMuG",
        "kexQrXU-DjzY",
        "T5CmagL3EC8N",
        "BhH2vgX9EjGr",
        "qjKvONjwE8ra",
        "P1XJ9OREExlT",
        "VFOzZv6IFROw",
        "TIqpNgepFxVj",
        "VfCC591jGiD4",
        "OB4l2ZhMeS1U",
        "ArJBuiUVfxKd",
        "4qY1EAkEfxKe",
        "PiV4Ypx8fxKe",
        "TfvqoZmBfxKf",
        "dJ2tPlVmpsJ0",
        "JWYfwnehpsJ1",
        "-jK_YjpMpsJ2",
        "HAih1iBOpsJ2",
        "zVGeBEFhpsJ2",
        "bmKjuQ-FpsJ3",
        "Fze-IPXLpx6K",
        "7AN1z2sKpx6M",
        "9PIHJqyupx6M",
        "_-qAgymDpx6N",
        "Z-hykwinpx6N",
        "h_CCil-SKHpo",
        "cBFFvTBNJzUa",
        "HvGl1hHyA_VK",
        "EyNgTHvd2WFk",
        "KH5McJBi2d8v",
        "iW_Lq9qf2h6X",
        "-Kee-DAl2viO",
        "gCX9965dhzqZ",
        "gIfDvo9L0UH2"
      ],
      "include_colab_link": true
    },
    "kernelspec": {
      "name": "python3",
      "display_name": "Python 3"
    },
    "language_info": {
      "name": "python"
    }
  },
  "cells": [
    {
      "cell_type": "markdown",
      "metadata": {
        "id": "view-in-github",
        "colab_type": "text"
      },
      "source": [
        "<a href=\"https://colab.research.google.com/github/Electra89/Unsupervised-ML---Netflix-Movies-and-TV-Shows-Clustering/blob/main/Unsupervised_ML_Netflix_Movies_and_TV_Shows_Clustering.ipynb\" target=\"_parent\"><img src=\"https://colab.research.google.com/assets/colab-badge.svg\" alt=\"Open In Colab\"/></a>"
      ]
    },
    {
      "cell_type": "markdown",
      "source": [
        "# **Project Name**    - Unsupervised ML - Netflix Movies and TV Shows Clustering\n",
        "\n"
      ],
      "metadata": {
        "id": "vncDsAP0Gaoa"
      }
    },
    {
      "cell_type": "markdown",
      "source": [
        "##### **Project Type**    - Unsupervised Machine Learning\n",
        "##### **Contribution**    - Individual\n"
      ],
      "metadata": {
        "id": "beRrZCGUAJYm"
      }
    },
    {
      "cell_type": "markdown",
      "source": [
        "# **Project Summary -**"
      ],
      "metadata": {
        "id": "FJNUwmbgGyua"
      }
    },
    {
      "cell_type": "markdown",
      "source": [
        "Write the summary here within 500-600 words."
      ],
      "metadata": {
        "id": "F6v_1wHtG2nS"
      }
    },
    {
      "cell_type": "markdown",
      "source": [
        "# **GitHub Link -**"
      ],
      "metadata": {
        "id": "w6K7xa23Elo4"
      }
    },
    {
      "cell_type": "markdown",
      "source": [
        "[Click here to open Github repo.](https://github.com/Electra89/Unsupervised-ML---Netflix-Movies-and-TV-Shows-Clustering)"
      ],
      "metadata": {
        "id": "gpIqVRXEWmfv"
      }
    },
    {
      "cell_type": "markdown",
      "source": [
        "# **Problem Statement**\n"
      ],
      "metadata": {
        "id": "yQaldy8SH6Dl"
      }
    },
    {
      "cell_type": "markdown",
      "source": [
        "> The problem at hand is to conduct exploratory data analysis on a Netflix dataset in order to understand the types of content available in different countries, determine if Netflix has been prioritizing TV shows over movies in recent years, and cluster similar content based on text-based features."
      ],
      "metadata": {
        "id": "DpeJGUA3kjGy"
      }
    },
    {
      "cell_type": "markdown",
      "source": [
        "# ***Let's Begin !***"
      ],
      "metadata": {
        "id": "O_i_v8NEhb9l"
      }
    },
    {
      "cell_type": "markdown",
      "source": [
        "## ***1. Know Your Data***"
      ],
      "metadata": {
        "id": "HhfV-JJviCcP"
      }
    },
    {
      "cell_type": "markdown",
      "source": [
        "### Import Libraries"
      ],
      "metadata": {
        "id": "Y3lxredqlCYt"
      }
    },
    {
      "cell_type": "code",
      "source": [
        "# Import Libraries\n",
        "import numpy as np                                              # Library for efficient numerical operations\n",
        "import pandas as pd                                             # Library for data manipulation\n",
        "import matplotlib.pyplot as plt                                 # Library for creating visualizations and plots in Python.\n",
        "%matplotlib inline\n",
        "from matplotlib import rcParams\n",
        "import seaborn as sns                                           # Library for creating visualizations and plots in Python.\n",
        "import plotly.express as px"
      ],
      "metadata": {
        "id": "M8Vqi-pPk-HR"
      },
      "execution_count": 149,
      "outputs": []
    },
    {
      "cell_type": "markdown",
      "source": [
        "### Dataset Loading"
      ],
      "metadata": {
        "id": "3RnN4peoiCZX"
      }
    },
    {
      "cell_type": "code",
      "source": [
        "# Load Dataset\n",
        "Dataset_path =\"https://raw.githubusercontent.com/Electra89/Unsupervised-ML---Netflix-Movies-and-TV-Shows-Clustering/main/NETFLIX%20MOVIES%20AND%20TV%20SHOWS%20CLUSTERING.csv\"\n",
        "df=pd.read_csv(Dataset_path)"
      ],
      "metadata": {
        "id": "4CkvbW_SlZ_R"
      },
      "execution_count": 150,
      "outputs": []
    },
    {
      "cell_type": "markdown",
      "source": [
        "### Dataset First View"
      ],
      "metadata": {
        "id": "x71ZqKXriCWQ"
      }
    },
    {
      "cell_type": "code",
      "source": [
        "# Dataset First Look\n",
        "df.head()"
      ],
      "metadata": {
        "id": "LWNFOSvLl09H",
        "colab": {
          "base_uri": "https://localhost:8080/",
          "height": 380
        },
        "outputId": "0cd50158-10af-45a8-f522-458f80ab9658"
      },
      "execution_count": 151,
      "outputs": [
        {
          "output_type": "execute_result",
          "data": {
            "text/plain": [
              "  show_id     type  title           director  \\\n",
              "0      s1  TV Show     3%                NaN   \n",
              "1      s2    Movie   7:19  Jorge Michel Grau   \n",
              "2      s3    Movie  23:59       Gilbert Chan   \n",
              "3      s4    Movie      9        Shane Acker   \n",
              "4      s5    Movie     21     Robert Luketic   \n",
              "\n",
              "                                                cast        country  \\\n",
              "0  João Miguel, Bianca Comparato, Michel Gomes, R...         Brazil   \n",
              "1  Demián Bichir, Héctor Bonilla, Oscar Serrano, ...         Mexico   \n",
              "2  Tedd Chan, Stella Chung, Henley Hii, Lawrence ...      Singapore   \n",
              "3  Elijah Wood, John C. Reilly, Jennifer Connelly...  United States   \n",
              "4  Jim Sturgess, Kevin Spacey, Kate Bosworth, Aar...  United States   \n",
              "\n",
              "          date_added  release_year rating   duration  \\\n",
              "0    August 14, 2020          2020  TV-MA  4 Seasons   \n",
              "1  December 23, 2016          2016  TV-MA     93 min   \n",
              "2  December 20, 2018          2011      R     78 min   \n",
              "3  November 16, 2017          2009  PG-13     80 min   \n",
              "4    January 1, 2020          2008  PG-13    123 min   \n",
              "\n",
              "                                           listed_in  \\\n",
              "0  International TV Shows, TV Dramas, TV Sci-Fi &...   \n",
              "1                       Dramas, International Movies   \n",
              "2                Horror Movies, International Movies   \n",
              "3  Action & Adventure, Independent Movies, Sci-Fi...   \n",
              "4                                             Dramas   \n",
              "\n",
              "                                         description  \n",
              "0  In a future where the elite inhabit an island ...  \n",
              "1  After a devastating earthquake hits Mexico Cit...  \n",
              "2  When an army recruit is found dead, his fellow...  \n",
              "3  In a postapocalyptic world, rag-doll robots hi...  \n",
              "4  A brilliant group of students become card-coun...  "
            ],
            "text/html": [
              "\n",
              "  <div id=\"df-7df1b52f-9f61-4ab9-b378-3a884ad4ba72\" class=\"colab-df-container\">\n",
              "    <div>\n",
              "<style scoped>\n",
              "    .dataframe tbody tr th:only-of-type {\n",
              "        vertical-align: middle;\n",
              "    }\n",
              "\n",
              "    .dataframe tbody tr th {\n",
              "        vertical-align: top;\n",
              "    }\n",
              "\n",
              "    .dataframe thead th {\n",
              "        text-align: right;\n",
              "    }\n",
              "</style>\n",
              "<table border=\"1\" class=\"dataframe\">\n",
              "  <thead>\n",
              "    <tr style=\"text-align: right;\">\n",
              "      <th></th>\n",
              "      <th>show_id</th>\n",
              "      <th>type</th>\n",
              "      <th>title</th>\n",
              "      <th>director</th>\n",
              "      <th>cast</th>\n",
              "      <th>country</th>\n",
              "      <th>date_added</th>\n",
              "      <th>release_year</th>\n",
              "      <th>rating</th>\n",
              "      <th>duration</th>\n",
              "      <th>listed_in</th>\n",
              "      <th>description</th>\n",
              "    </tr>\n",
              "  </thead>\n",
              "  <tbody>\n",
              "    <tr>\n",
              "      <th>0</th>\n",
              "      <td>s1</td>\n",
              "      <td>TV Show</td>\n",
              "      <td>3%</td>\n",
              "      <td>NaN</td>\n",
              "      <td>João Miguel, Bianca Comparato, Michel Gomes, R...</td>\n",
              "      <td>Brazil</td>\n",
              "      <td>August 14, 2020</td>\n",
              "      <td>2020</td>\n",
              "      <td>TV-MA</td>\n",
              "      <td>4 Seasons</td>\n",
              "      <td>International TV Shows, TV Dramas, TV Sci-Fi &amp;...</td>\n",
              "      <td>In a future where the elite inhabit an island ...</td>\n",
              "    </tr>\n",
              "    <tr>\n",
              "      <th>1</th>\n",
              "      <td>s2</td>\n",
              "      <td>Movie</td>\n",
              "      <td>7:19</td>\n",
              "      <td>Jorge Michel Grau</td>\n",
              "      <td>Demián Bichir, Héctor Bonilla, Oscar Serrano, ...</td>\n",
              "      <td>Mexico</td>\n",
              "      <td>December 23, 2016</td>\n",
              "      <td>2016</td>\n",
              "      <td>TV-MA</td>\n",
              "      <td>93 min</td>\n",
              "      <td>Dramas, International Movies</td>\n",
              "      <td>After a devastating earthquake hits Mexico Cit...</td>\n",
              "    </tr>\n",
              "    <tr>\n",
              "      <th>2</th>\n",
              "      <td>s3</td>\n",
              "      <td>Movie</td>\n",
              "      <td>23:59</td>\n",
              "      <td>Gilbert Chan</td>\n",
              "      <td>Tedd Chan, Stella Chung, Henley Hii, Lawrence ...</td>\n",
              "      <td>Singapore</td>\n",
              "      <td>December 20, 2018</td>\n",
              "      <td>2011</td>\n",
              "      <td>R</td>\n",
              "      <td>78 min</td>\n",
              "      <td>Horror Movies, International Movies</td>\n",
              "      <td>When an army recruit is found dead, his fellow...</td>\n",
              "    </tr>\n",
              "    <tr>\n",
              "      <th>3</th>\n",
              "      <td>s4</td>\n",
              "      <td>Movie</td>\n",
              "      <td>9</td>\n",
              "      <td>Shane Acker</td>\n",
              "      <td>Elijah Wood, John C. Reilly, Jennifer Connelly...</td>\n",
              "      <td>United States</td>\n",
              "      <td>November 16, 2017</td>\n",
              "      <td>2009</td>\n",
              "      <td>PG-13</td>\n",
              "      <td>80 min</td>\n",
              "      <td>Action &amp; Adventure, Independent Movies, Sci-Fi...</td>\n",
              "      <td>In a postapocalyptic world, rag-doll robots hi...</td>\n",
              "    </tr>\n",
              "    <tr>\n",
              "      <th>4</th>\n",
              "      <td>s5</td>\n",
              "      <td>Movie</td>\n",
              "      <td>21</td>\n",
              "      <td>Robert Luketic</td>\n",
              "      <td>Jim Sturgess, Kevin Spacey, Kate Bosworth, Aar...</td>\n",
              "      <td>United States</td>\n",
              "      <td>January 1, 2020</td>\n",
              "      <td>2008</td>\n",
              "      <td>PG-13</td>\n",
              "      <td>123 min</td>\n",
              "      <td>Dramas</td>\n",
              "      <td>A brilliant group of students become card-coun...</td>\n",
              "    </tr>\n",
              "  </tbody>\n",
              "</table>\n",
              "</div>\n",
              "    <div class=\"colab-df-buttons\">\n",
              "\n",
              "  <div class=\"colab-df-container\">\n",
              "    <button class=\"colab-df-convert\" onclick=\"convertToInteractive('df-7df1b52f-9f61-4ab9-b378-3a884ad4ba72')\"\n",
              "            title=\"Convert this dataframe to an interactive table.\"\n",
              "            style=\"display:none;\">\n",
              "\n",
              "  <svg xmlns=\"http://www.w3.org/2000/svg\" height=\"24px\" viewBox=\"0 -960 960 960\">\n",
              "    <path d=\"M120-120v-720h720v720H120Zm60-500h600v-160H180v160Zm220 220h160v-160H400v160Zm0 220h160v-160H400v160ZM180-400h160v-160H180v160Zm440 0h160v-160H620v160ZM180-180h160v-160H180v160Zm440 0h160v-160H620v160Z\"/>\n",
              "  </svg>\n",
              "    </button>\n",
              "\n",
              "  <style>\n",
              "    .colab-df-container {\n",
              "      display:flex;\n",
              "      gap: 12px;\n",
              "    }\n",
              "\n",
              "    .colab-df-convert {\n",
              "      background-color: #E8F0FE;\n",
              "      border: none;\n",
              "      border-radius: 50%;\n",
              "      cursor: pointer;\n",
              "      display: none;\n",
              "      fill: #1967D2;\n",
              "      height: 32px;\n",
              "      padding: 0 0 0 0;\n",
              "      width: 32px;\n",
              "    }\n",
              "\n",
              "    .colab-df-convert:hover {\n",
              "      background-color: #E2EBFA;\n",
              "      box-shadow: 0px 1px 2px rgba(60, 64, 67, 0.3), 0px 1px 3px 1px rgba(60, 64, 67, 0.15);\n",
              "      fill: #174EA6;\n",
              "    }\n",
              "\n",
              "    .colab-df-buttons div {\n",
              "      margin-bottom: 4px;\n",
              "    }\n",
              "\n",
              "    [theme=dark] .colab-df-convert {\n",
              "      background-color: #3B4455;\n",
              "      fill: #D2E3FC;\n",
              "    }\n",
              "\n",
              "    [theme=dark] .colab-df-convert:hover {\n",
              "      background-color: #434B5C;\n",
              "      box-shadow: 0px 1px 3px 1px rgba(0, 0, 0, 0.15);\n",
              "      filter: drop-shadow(0px 1px 2px rgba(0, 0, 0, 0.3));\n",
              "      fill: #FFFFFF;\n",
              "    }\n",
              "  </style>\n",
              "\n",
              "    <script>\n",
              "      const buttonEl =\n",
              "        document.querySelector('#df-7df1b52f-9f61-4ab9-b378-3a884ad4ba72 button.colab-df-convert');\n",
              "      buttonEl.style.display =\n",
              "        google.colab.kernel.accessAllowed ? 'block' : 'none';\n",
              "\n",
              "      async function convertToInteractive(key) {\n",
              "        const element = document.querySelector('#df-7df1b52f-9f61-4ab9-b378-3a884ad4ba72');\n",
              "        const dataTable =\n",
              "          await google.colab.kernel.invokeFunction('convertToInteractive',\n",
              "                                                    [key], {});\n",
              "        if (!dataTable) return;\n",
              "\n",
              "        const docLinkHtml = 'Like what you see? Visit the ' +\n",
              "          '<a target=\"_blank\" href=https://colab.research.google.com/notebooks/data_table.ipynb>data table notebook</a>'\n",
              "          + ' to learn more about interactive tables.';\n",
              "        element.innerHTML = '';\n",
              "        dataTable['output_type'] = 'display_data';\n",
              "        await google.colab.output.renderOutput(dataTable, element);\n",
              "        const docLink = document.createElement('div');\n",
              "        docLink.innerHTML = docLinkHtml;\n",
              "        element.appendChild(docLink);\n",
              "      }\n",
              "    </script>\n",
              "  </div>\n",
              "\n",
              "\n",
              "<div id=\"df-a8690cc5-e192-41d0-b61e-902b57d5eb80\">\n",
              "  <button class=\"colab-df-quickchart\" onclick=\"quickchart('df-a8690cc5-e192-41d0-b61e-902b57d5eb80')\"\n",
              "            title=\"Suggest charts\"\n",
              "            style=\"display:none;\">\n",
              "\n",
              "<svg xmlns=\"http://www.w3.org/2000/svg\" height=\"24px\"viewBox=\"0 0 24 24\"\n",
              "     width=\"24px\">\n",
              "    <g>\n",
              "        <path d=\"M19 3H5c-1.1 0-2 .9-2 2v14c0 1.1.9 2 2 2h14c1.1 0 2-.9 2-2V5c0-1.1-.9-2-2-2zM9 17H7v-7h2v7zm4 0h-2V7h2v10zm4 0h-2v-4h2v4z\"/>\n",
              "    </g>\n",
              "</svg>\n",
              "  </button>\n",
              "\n",
              "<style>\n",
              "  .colab-df-quickchart {\n",
              "      --bg-color: #E8F0FE;\n",
              "      --fill-color: #1967D2;\n",
              "      --hover-bg-color: #E2EBFA;\n",
              "      --hover-fill-color: #174EA6;\n",
              "      --disabled-fill-color: #AAA;\n",
              "      --disabled-bg-color: #DDD;\n",
              "  }\n",
              "\n",
              "  [theme=dark] .colab-df-quickchart {\n",
              "      --bg-color: #3B4455;\n",
              "      --fill-color: #D2E3FC;\n",
              "      --hover-bg-color: #434B5C;\n",
              "      --hover-fill-color: #FFFFFF;\n",
              "      --disabled-bg-color: #3B4455;\n",
              "      --disabled-fill-color: #666;\n",
              "  }\n",
              "\n",
              "  .colab-df-quickchart {\n",
              "    background-color: var(--bg-color);\n",
              "    border: none;\n",
              "    border-radius: 50%;\n",
              "    cursor: pointer;\n",
              "    display: none;\n",
              "    fill: var(--fill-color);\n",
              "    height: 32px;\n",
              "    padding: 0;\n",
              "    width: 32px;\n",
              "  }\n",
              "\n",
              "  .colab-df-quickchart:hover {\n",
              "    background-color: var(--hover-bg-color);\n",
              "    box-shadow: 0 1px 2px rgba(60, 64, 67, 0.3), 0 1px 3px 1px rgba(60, 64, 67, 0.15);\n",
              "    fill: var(--button-hover-fill-color);\n",
              "  }\n",
              "\n",
              "  .colab-df-quickchart-complete:disabled,\n",
              "  .colab-df-quickchart-complete:disabled:hover {\n",
              "    background-color: var(--disabled-bg-color);\n",
              "    fill: var(--disabled-fill-color);\n",
              "    box-shadow: none;\n",
              "  }\n",
              "\n",
              "  .colab-df-spinner {\n",
              "    border: 2px solid var(--fill-color);\n",
              "    border-color: transparent;\n",
              "    border-bottom-color: var(--fill-color);\n",
              "    animation:\n",
              "      spin 1s steps(1) infinite;\n",
              "  }\n",
              "\n",
              "  @keyframes spin {\n",
              "    0% {\n",
              "      border-color: transparent;\n",
              "      border-bottom-color: var(--fill-color);\n",
              "      border-left-color: var(--fill-color);\n",
              "    }\n",
              "    20% {\n",
              "      border-color: transparent;\n",
              "      border-left-color: var(--fill-color);\n",
              "      border-top-color: var(--fill-color);\n",
              "    }\n",
              "    30% {\n",
              "      border-color: transparent;\n",
              "      border-left-color: var(--fill-color);\n",
              "      border-top-color: var(--fill-color);\n",
              "      border-right-color: var(--fill-color);\n",
              "    }\n",
              "    40% {\n",
              "      border-color: transparent;\n",
              "      border-right-color: var(--fill-color);\n",
              "      border-top-color: var(--fill-color);\n",
              "    }\n",
              "    60% {\n",
              "      border-color: transparent;\n",
              "      border-right-color: var(--fill-color);\n",
              "    }\n",
              "    80% {\n",
              "      border-color: transparent;\n",
              "      border-right-color: var(--fill-color);\n",
              "      border-bottom-color: var(--fill-color);\n",
              "    }\n",
              "    90% {\n",
              "      border-color: transparent;\n",
              "      border-bottom-color: var(--fill-color);\n",
              "    }\n",
              "  }\n",
              "</style>\n",
              "\n",
              "  <script>\n",
              "    async function quickchart(key) {\n",
              "      const quickchartButtonEl =\n",
              "        document.querySelector('#' + key + ' button');\n",
              "      quickchartButtonEl.disabled = true;  // To prevent multiple clicks.\n",
              "      quickchartButtonEl.classList.add('colab-df-spinner');\n",
              "      try {\n",
              "        const charts = await google.colab.kernel.invokeFunction(\n",
              "            'suggestCharts', [key], {});\n",
              "      } catch (error) {\n",
              "        console.error('Error during call to suggestCharts:', error);\n",
              "      }\n",
              "      quickchartButtonEl.classList.remove('colab-df-spinner');\n",
              "      quickchartButtonEl.classList.add('colab-df-quickchart-complete');\n",
              "    }\n",
              "    (() => {\n",
              "      let quickchartButtonEl =\n",
              "        document.querySelector('#df-a8690cc5-e192-41d0-b61e-902b57d5eb80 button');\n",
              "      quickchartButtonEl.style.display =\n",
              "        google.colab.kernel.accessAllowed ? 'block' : 'none';\n",
              "    })();\n",
              "  </script>\n",
              "</div>\n",
              "\n",
              "    </div>\n",
              "  </div>\n"
            ]
          },
          "metadata": {},
          "execution_count": 151
        }
      ]
    },
    {
      "cell_type": "markdown",
      "source": [
        "### Dataset Rows & Columns count"
      ],
      "metadata": {
        "id": "7hBIi_osiCS2"
      }
    },
    {
      "cell_type": "code",
      "source": [
        "# Dataset Rows & Columns count\n",
        "print(f\"Number of Rows: {df.shape[0]} \\nNumber of Columns: {df.shape[1]}\")"
      ],
      "metadata": {
        "id": "Kllu7SJgmLij",
        "colab": {
          "base_uri": "https://localhost:8080/"
        },
        "outputId": "ff132080-b262-4386-bc09-736c47db1369"
      },
      "execution_count": 152,
      "outputs": [
        {
          "output_type": "stream",
          "name": "stdout",
          "text": [
            "Number of Rows: 7787 \n",
            "Number of Columns: 12\n"
          ]
        }
      ]
    },
    {
      "cell_type": "markdown",
      "source": [
        "### Dataset Information"
      ],
      "metadata": {
        "id": "JlHwYmJAmNHm"
      }
    },
    {
      "cell_type": "code",
      "source": [
        "# Dataset Info\n",
        "df.info()"
      ],
      "metadata": {
        "id": "e9hRXRi6meOf",
        "colab": {
          "base_uri": "https://localhost:8080/"
        },
        "outputId": "181725ac-f321-448e-b6ed-d22f8886f54d"
      },
      "execution_count": 153,
      "outputs": [
        {
          "output_type": "stream",
          "name": "stdout",
          "text": [
            "<class 'pandas.core.frame.DataFrame'>\n",
            "RangeIndex: 7787 entries, 0 to 7786\n",
            "Data columns (total 12 columns):\n",
            " #   Column        Non-Null Count  Dtype \n",
            "---  ------        --------------  ----- \n",
            " 0   show_id       7787 non-null   object\n",
            " 1   type          7787 non-null   object\n",
            " 2   title         7787 non-null   object\n",
            " 3   director      5398 non-null   object\n",
            " 4   cast          7069 non-null   object\n",
            " 5   country       7280 non-null   object\n",
            " 6   date_added    7777 non-null   object\n",
            " 7   release_year  7787 non-null   int64 \n",
            " 8   rating        7780 non-null   object\n",
            " 9   duration      7787 non-null   object\n",
            " 10  listed_in     7787 non-null   object\n",
            " 11  description   7787 non-null   object\n",
            "dtypes: int64(1), object(11)\n",
            "memory usage: 730.2+ KB\n"
          ]
        }
      ]
    },
    {
      "cell_type": "markdown",
      "source": [
        "#### Duplicate Values"
      ],
      "metadata": {
        "id": "35m5QtbWiB9F"
      }
    },
    {
      "cell_type": "code",
      "source": [
        "# Dataset Duplicate Value Count\n",
        "print(f\"Duplicate Value Counts: {df.duplicated().sum()}\")"
      ],
      "metadata": {
        "id": "1sLdpKYkmox0",
        "colab": {
          "base_uri": "https://localhost:8080/"
        },
        "outputId": "098662a0-1635-4564-b6e3-9640008d8058"
      },
      "execution_count": 154,
      "outputs": [
        {
          "output_type": "stream",
          "name": "stdout",
          "text": [
            "Duplicate Value Counts: 0\n"
          ]
        }
      ]
    },
    {
      "cell_type": "markdown",
      "source": [
        "#### Missing Values/Null Values"
      ],
      "metadata": {
        "id": "PoPl-ycgm1ru"
      }
    },
    {
      "cell_type": "code",
      "source": [
        "# Missing Values/Null Values Count\n",
        "df.isnull().sum()"
      ],
      "metadata": {
        "id": "GgHWkxvamxVg",
        "colab": {
          "base_uri": "https://localhost:8080/"
        },
        "outputId": "e67dfeb8-b713-462f-d660-77a702047c06"
      },
      "execution_count": 155,
      "outputs": [
        {
          "output_type": "execute_result",
          "data": {
            "text/plain": [
              "show_id            0\n",
              "type               0\n",
              "title              0\n",
              "director        2389\n",
              "cast             718\n",
              "country          507\n",
              "date_added        10\n",
              "release_year       0\n",
              "rating             7\n",
              "duration           0\n",
              "listed_in          0\n",
              "description        0\n",
              "dtype: int64"
            ]
          },
          "metadata": {},
          "execution_count": 155
        }
      ]
    },
    {
      "cell_type": "code",
      "source": [
        "# Visualizing the missing values\n",
        "null_counts = df.isnull().sum()\n",
        "\n",
        "sns.heatmap(df.isnull(),yticklabels=False,cbar=False,cmap='mako')\n",
        "plt.title('Number of Null Values in Each Columns')\n",
        "plt.xlabel('Number of Null Values')\n",
        "plt.show()"
      ],
      "metadata": {
        "id": "3q5wnI3om9sJ",
        "colab": {
          "base_uri": "https://localhost:8080/",
          "height": 546
        },
        "outputId": "49adce91-e85b-4f74-8197-2662e995a9db"
      },
      "execution_count": 156,
      "outputs": [
        {
          "output_type": "display_data",
          "data": {
            "text/plain": [
              "<Figure size 640x480 with 1 Axes>"
            ],
            "image/png": "[encoded data removed]"
          },
          "metadata": {}
        }
      ]
    },
    {
      "cell_type": "markdown",
      "source": [
        "### What did you know about your dataset?"
      ],
      "metadata": {
        "id": "H0kj-8xxnORC"
      }
    },
    {
      "cell_type": "markdown",
      "source": [
        "> * The Netflix Movies and TV Shows Clustering dataset comprises information on TV shows and movies available on Netflix as of 2019. With 7787 entries and 12 columns, the dataset includes a mix of categorical and numerical variables.\n",
        "> * Some variables such as director, cast, country, date added, and rating contain null values."
      ],
      "metadata": {
        "id": "gfoNAAC-nUe_"
      }
    },
    {
      "cell_type": "markdown",
      "source": [
        "## ***2. Understanding Your Variables***"
      ],
      "metadata": {
        "id": "nA9Y7ga8ng1Z"
      }
    },
    {
      "cell_type": "code",
      "source": [
        "# Dataset Columns\n",
        "df.columns"
      ],
      "metadata": {
        "id": "j7xfkqrt5Ag5",
        "colab": {
          "base_uri": "https://localhost:8080/"
        },
        "outputId": "5f933f58-fce5-4ee2-dcb0-08019c43a7b5"
      },
      "execution_count": 157,
      "outputs": [
        {
          "output_type": "execute_result",
          "data": {
            "text/plain": [
              "Index(['show_id', 'type', 'title', 'director', 'cast', 'country', 'date_added',\n",
              "       'release_year', 'rating', 'duration', 'listed_in', 'description'],\n",
              "      dtype='object')"
            ]
          },
          "metadata": {},
          "execution_count": 157
        }
      ]
    },
    {
      "cell_type": "code",
      "source": [
        "# Dataset Describe\n",
        "df.describe().transpose().style.background_gradient( cmap=\"icefire\")"
      ],
      "metadata": {
        "id": "DnOaZdaE5Q5t",
        "colab": {
          "base_uri": "https://localhost:8080/",
          "height": 81
        },
        "outputId": "ef548b10-b3d5-401f-ec8b-e2df4fd47704"
      },
      "execution_count": 158,
      "outputs": [
        {
          "output_type": "execute_result",
          "data": {
            "text/plain": [
              "<pandas.io.formats.style.Styler at 0x79dbe447d4b0>"
            ],
            "text/html": [
              "<style type=\"text/css\">\n",
              "#T_88de8_row0_col0, #T_88de8_row0_col1, #T_88de8_row0_col2, #T_88de8_row0_col3, #T_88de8_row0_col4, #T_88de8_row0_col5, #T_88de8_row0_col6, #T_88de8_row0_col7 {\n",
              "  background-color: #bde7db;\n",
              "  color: #000000;\n",
              "}\n",
              "</style>\n",
              "<table id=\"T_88de8\" class=\"dataframe\">\n",
              "  <thead>\n",
              "    <tr>\n",
              "      <th class=\"blank level0\" >&nbsp;</th>\n",
              "      <th id=\"T_88de8_level0_col0\" class=\"col_heading level0 col0\" >count</th>\n",
              "      <th id=\"T_88de8_level0_col1\" class=\"col_heading level0 col1\" >mean</th>\n",
              "      <th id=\"T_88de8_level0_col2\" class=\"col_heading level0 col2\" >std</th>\n",
              "      <th id=\"T_88de8_level0_col3\" class=\"col_heading level0 col3\" >min</th>\n",
              "      <th id=\"T_88de8_level0_col4\" class=\"col_heading level0 col4\" >25%</th>\n",
              "      <th id=\"T_88de8_level0_col5\" class=\"col_heading level0 col5\" >50%</th>\n",
              "      <th id=\"T_88de8_level0_col6\" class=\"col_heading level0 col6\" >75%</th>\n",
              "      <th id=\"T_88de8_level0_col7\" class=\"col_heading level0 col7\" >max</th>\n",
              "    </tr>\n",
              "  </thead>\n",
              "  <tbody>\n",
              "    <tr>\n",
              "      <th id=\"T_88de8_level0_row0\" class=\"row_heading level0 row0\" >release_year</th>\n",
              "      <td id=\"T_88de8_row0_col0\" class=\"data row0 col0\" >7787.000000</td>\n",
              "      <td id=\"T_88de8_row0_col1\" class=\"data row0 col1\" >2013.932580</td>\n",
              "      <td id=\"T_88de8_row0_col2\" class=\"data row0 col2\" >8.757395</td>\n",
              "      <td id=\"T_88de8_row0_col3\" class=\"data row0 col3\" >1925.000000</td>\n",
              "      <td id=\"T_88de8_row0_col4\" class=\"data row0 col4\" >2013.000000</td>\n",
              "      <td id=\"T_88de8_row0_col5\" class=\"data row0 col5\" >2017.000000</td>\n",
              "      <td id=\"T_88de8_row0_col6\" class=\"data row0 col6\" >2018.000000</td>\n",
              "      <td id=\"T_88de8_row0_col7\" class=\"data row0 col7\" >2021.000000</td>\n",
              "    </tr>\n",
              "  </tbody>\n",
              "</table>\n"
            ]
          },
          "metadata": {},
          "execution_count": 158
        }
      ]
    },
    {
      "cell_type": "markdown",
      "source": [
        "### Variables Description"
      ],
      "metadata": {
        "id": "PBTbrJXOngz2"
      }
    },
    {
      "cell_type": "code",
      "source": [
        "df.dtypes.value_counts()"
      ],
      "metadata": {
        "id": "yBe3yw8gpYt0",
        "colab": {
          "base_uri": "https://localhost:8080/"
        },
        "outputId": "dd29128f-387f-4170-9815-da8acaaeaf32"
      },
      "execution_count": 159,
      "outputs": [
        {
          "output_type": "execute_result",
          "data": {
            "text/plain": [
              "object    11\n",
              "int64      1\n",
              "dtype: int64"
            ]
          },
          "metadata": {},
          "execution_count": 159
        }
      ]
    },
    {
      "cell_type": "markdown",
      "source": [
        "| Column         |              Description                                                           |\n",
        "|----------------|-----------------------------------------------------------------------|\n",
        "| **show_id**    | A unique identifier for each movie or TV show in the dataset.         |\n",
        "| **type**       | Indicates whether the entry is a movie or a TV show.                   |\n",
        "| **title**      | The title of the movie or TV show.                                    |\n",
        "| director       | The name of the director(s) associated with the content.              |\n",
        "| **cast**       | The names of the main cast members in the movie or TV show.           |\n",
        "| **country**    | The country or countries where the content was produced or originated.|\n",
        "| **date_added** | The date when the movie or TV show was added to Netflix.              |\n",
        "| **release_year**| The year when the movie or TV show was originally released.           |\n",
        "| **rating**     | The content rating assigned to the movie or TV show (e.g., PG, TV-MA).|\n",
        "| **duration**   | The duration of the movie or TV show (e.g., \"1h 30m\" for 1 hour and 30 minutes).|\n",
        "| **listed_in**  | The categories or genres in which the content is listed.              |\n",
        "| **description**| A brief summary or description of the movie or TV show.               |\n"
      ],
      "metadata": {
        "id": "OMQJTPaMclN5"
      }
    },
    {
      "cell_type": "markdown",
      "source": [
        "Answer Here"
      ],
      "metadata": {
        "id": "aJV4KIxSnxay"
      }
    },
    {
      "cell_type": "markdown",
      "source": [
        "### Check Unique Values for each variable."
      ],
      "metadata": {
        "id": "u3PMJOP6ngxN"
      }
    },
    {
      "cell_type": "code",
      "source": [
        "# Check Unique Values for each variable.\n",
        "def unique_values(data_frame):\n",
        "    for column in data_frame.columns:\n",
        "        unique_values = data_frame[column].nunique()\n",
        "        print(f\"Column '{column}' has  unique value(s): {unique_values}\")\n",
        "\n",
        "# Call the function with your DataFrame\n",
        "unique_values(df)"
      ],
      "metadata": {
        "id": "zms12Yq5n-jE",
        "colab": {
          "base_uri": "https://localhost:8080/"
        },
        "outputId": "cbc2bae9-b29c-4ce4-f535-b32981a3be14"
      },
      "execution_count": 160,
      "outputs": [
        {
          "output_type": "stream",
          "name": "stdout",
          "text": [
            "Column 'show_id' has  unique value(s): 7787\n",
            "Column 'type' has  unique value(s): 2\n",
            "Column 'title' has  unique value(s): 7787\n",
            "Column 'director' has  unique value(s): 4049\n",
            "Column 'cast' has  unique value(s): 6831\n",
            "Column 'country' has  unique value(s): 681\n",
            "Column 'date_added' has  unique value(s): 1565\n",
            "Column 'release_year' has  unique value(s): 73\n",
            "Column 'rating' has  unique value(s): 14\n",
            "Column 'duration' has  unique value(s): 216\n",
            "Column 'listed_in' has  unique value(s): 492\n",
            "Column 'description' has  unique value(s): 7769\n"
          ]
        }
      ]
    },
    {
      "cell_type": "markdown",
      "source": [
        "## 3. ***Data Wrangling***"
      ],
      "metadata": {
        "id": "dauF4eBmngu3"
      }
    },
    {
      "cell_type": "markdown",
      "source": [
        "### Data Wrangling Code"
      ],
      "metadata": {
        "id": "bKJF3rekwFvQ"
      }
    },
    {
      "cell_type": "code",
      "source": [
        "Dataset_path =\"https://raw.githubusercontent.com/Electra89/Unsupervised-ML---Netflix-Movies-and-TV-Shows-Clustering/main/NETFLIX%20MOVIES%20AND%20TV%20SHOWS%20CLUSTERING.csv\"\n",
        "df=pd.read_csv(Dataset_path)"
      ],
      "metadata": {
        "id": "sUzPhxAL--0q"
      },
      "execution_count": 161,
      "outputs": []
    },
    {
      "cell_type": "code",
      "source": [
        "# Shape of the dataframe before Data Wrangling\n",
        "print(f\"Dataset size before dropping values : {df.shape}\")"
      ],
      "metadata": {
        "id": "wk-9a2fpoLcV",
        "colab": {
          "base_uri": "https://localhost:8080/"
        },
        "outputId": "5a94ddb1-dd82-4287-c00a-1811db116af6"
      },
      "execution_count": 162,
      "outputs": [
        {
          "output_type": "stream",
          "name": "stdout",
          "text": [
            "Dataset size before dropping values : (7787, 12)\n"
          ]
        }
      ]
    },
    {
      "cell_type": "code",
      "source": [
        "new_df = df.copy()"
      ],
      "metadata": {
        "id": "_ofhYXkF-lMg"
      },
      "execution_count": 163,
      "outputs": []
    },
    {
      "cell_type": "code",
      "source": [
        "# Fill missing values for 'director', 'cast', and 'country' columns with 'Unknown'\n",
        "\n",
        "new_df['director'] = new_df['director'].fillna('Unknown')\n",
        "new_df['cast'] = new_df['cast'].fillna('Unknown')\n",
        "new_df['country'] = new_df['country'].fillna('Unknown')"
      ],
      "metadata": {
        "id": "wOfdKgOyO9H3"
      },
      "execution_count": 164,
      "outputs": []
    },
    {
      "cell_type": "code",
      "source": [
        "# Fill missing values for 'rating' with the mode value\n",
        "new_df['rating']= new_df['rating'].fillna(new_df['rating'].mode()[0])"
      ],
      "metadata": {
        "id": "pfvwYUr2UKS0"
      },
      "execution_count": 165,
      "outputs": []
    },
    {
      "cell_type": "code",
      "source": [
        "# Convert 'date_added' to datetime\n",
        "new_df['date_added'] = pd.to_datetime(new_df['date_added'])"
      ],
      "metadata": {
        "id": "j4A3DjTCPTb5"
      },
      "execution_count": 166,
      "outputs": []
    },
    {
      "cell_type": "code",
      "source": [
        "# Drop rows with any remaining missing values\n",
        "new_df.dropna(axis=0, inplace=True)"
      ],
      "metadata": {
        "id": "Zw480A5MSzda"
      },
      "execution_count": 167,
      "outputs": []
    },
    {
      "cell_type": "code",
      "source": [
        "# Shape of the dataframe after Data Wrangling\n",
        "print(f\"Dataset size after dropping  : {new_df.shape}\")"
      ],
      "metadata": {
        "id": "5K_91ctZ9xrN",
        "colab": {
          "base_uri": "https://localhost:8080/"
        },
        "outputId": "a3bd4b56-8529-4bc3-b63e-542e22fcba29"
      },
      "execution_count": 168,
      "outputs": [
        {
          "output_type": "stream",
          "name": "stdout",
          "text": [
            "Dataset size after dropping  : (7777, 12)\n"
          ]
        }
      ]
    },
    {
      "cell_type": "markdown",
      "source": [
        "### What all manipulations have you done and insights you found?"
      ],
      "metadata": {
        "id": "MSa1f5Uengrz"
      }
    },
    {
      "cell_type": "markdown",
      "source": [
        "> * Null values in the **'director'**, **'cast'**, and **'country'** columns have been filled with the string 'Unknown' using the fillna method.\n",
        "> * Null values in the **'rating'** column have been filled with the mode (most frequent value) of the column using the fillna method. Note that for **'rating'**, the inplace=True parameter has been used.\n",
        "> * The **'date_added'** column has been converted to datetime format using the pd.to_datetime method.\n",
        "> * Rows containing any remaining missing values after the above manipulations have been dropped using the dropna method"
      ],
      "metadata": {
        "id": "rKw4kAKIU2EG"
      }
    },
    {
      "cell_type": "markdown",
      "source": [
        "Answer Here."
      ],
      "metadata": {
        "id": "LbyXE7I1olp8"
      }
    },
    {
      "cell_type": "markdown",
      "source": [
        "## ***4. Data Vizualization, Storytelling & Experimenting with charts : Understand the relationships between variables***"
      ],
      "metadata": {
        "id": "GF8Ens_Soomf"
      }
    },
    {
      "cell_type": "markdown",
      "source": [
        "#### Chart - 1  count of Movies vs TV Shows on Netflix."
      ],
      "metadata": {
        "id": "0wOQAZs5pc--"
      }
    },
    {
      "cell_type": "code",
      "source": [
        "# count of Movies vs TV Shows on Netflix.\n",
        "\n",
        "\n",
        "# Creating the countplot to visualize the data\n",
        "plt.figure(figsize = (10,8))\n",
        "\n",
        "type_countplot = sns.countplot(data = new_df, x='type', palette='hot_r')\n",
        "\n",
        "# Adding  a title to the plot\n",
        "plt.title('Count of Movies vs TV Shows on Netflix', fontsize=15, color='black')\n",
        "\n",
        "# Adding count annotations on top of the bars\n",
        "for p in type_countplot.patches:\n",
        "    type_countplot.annotate(f'{p.get_height()}',\n",
        "                              (p.get_x() + p.get_width() / 2., p.get_height()),\n",
        "                               ha='center', va='center', xytext=(0, 10),\n",
        "                                textcoords='offset points', fontsize=10, color='black')\n",
        "\n",
        "# Adding labels for the x and y axes\n",
        "plt.xlabel('Type', fontsize=12, color='black')\n",
        "plt.ylabel('Count', fontsize=12, color='black')\n",
        "\n",
        "# Displaying the plot\n",
        "plt.show()"
      ],
      "metadata": {
        "id": "7v_ESjsspbW7",
        "colab": {
          "base_uri": "https://localhost:8080/",
          "height": 724
        },
        "outputId": "227611e0-a06e-4e13-850c-8b530e434685"
      },
      "execution_count": 169,
      "outputs": [
        {
          "output_type": "display_data",
          "data": {
            "text/plain": [
              "<Figure size 1000x800 with 1 Axes>"
            ],
            "image/png": "[encoded data removed]"
          },
          "metadata": {}
        }
      ]
    },
    {
      "cell_type": "markdown",
      "source": [
        "##### 1. Why did you pick the specific chart?"
      ],
      "metadata": {
        "id": "K5QZ13OEpz2H"
      }
    },
    {
      "cell_type": "markdown",
      "source": [
        "> The countplot was chosen to visualize the distribution of movie and TV show types in the Netflix dataset due to its suitability for representing categorical data, enabling straightforward comparison of counts, and its simplicity, which facilitates clear communication of the distribution."
      ],
      "metadata": {
        "id": "XESiWehPqBRc"
      }
    },
    {
      "cell_type": "markdown",
      "source": [
        "##### 2. What is/are the insight(s) found from the chart?"
      ],
      "metadata": {
        "id": "lQ7QKXXCp7Bj"
      }
    },
    {
      "cell_type": "markdown",
      "source": [
        "> The chart shows there are more movies (5377) than TV shows (2400) in the Netflix dataset. Basically, Netflix has a lot more movies than TV shows."
      ],
      "metadata": {
        "id": "C_j1G7yiqdRP"
      }
    },
    {
      "cell_type": "markdown",
      "source": [
        "##### 3. Will the gained insights help creating a positive business impact?\n",
        "Are there any insights that lead to negative growth? Justify with specific reason."
      ],
      "metadata": {
        "id": "448CDAPjqfQr"
      }
    },
    {
      "cell_type": "markdown",
      "source": [
        "> * **Positive Impact**: Insights guide smart content decisions, optimizing Netflix's content strategy and tailoring user experiences for increased engagement.\n",
        "> * **Negative Impact**: Imbalances in content types may lead to dissatisfaction, highlighting the importance of diversification. Missing trend opportunities can result in a competitive disadvantage."
      ],
      "metadata": {
        "id": "3cspy4FjqxJW"
      }
    },
    {
      "cell_type": "markdown",
      "source": [
        "#### Chart - 2 distribution of release years of Netflix shows."
      ],
      "metadata": {
        "id": "KSlN3yHqYklG"
      }
    },
    {
      "cell_type": "code",
      "source": [
        "# Distribution of release years of Netflix shows.\n",
        "\n",
        "# Creating the histogram with Plotly\n",
        "release_year_hist = px.histogram(new_df, x='release_year', nbins=30, title='Distribution of Release Years of Netflix Shows',\n",
        "                                 labels={'release_year': 'Release Year'}, color_discrete_sequence=['red'],width=800, height=600,text_auto=True)\n",
        "\n",
        "# Updating layout\n",
        "release_year_hist.update_layout(\n",
        "    # Adding  a title to the plot\n",
        "    title=dict(text='Distribution of Release Years of Netflix Shows', x=0.5, y=0.95, xanchor='center', yanchor='top'),\n",
        "    # Adding labels for the x and y axes\n",
        "    xaxis=dict(title='Release Year', showgrid=True,title_font=dict(size=18)),\n",
        "    yaxis=dict(title='Count', showgrid=True,title_font=dict(size=18)),\n",
        "    showlegend=False\n",
        ")\n",
        "\n",
        "# Displaying the plot\n",
        "release_year_hist.show()"
      ],
      "metadata": {
        "id": "R4YgtaqtYklH",
        "colab": {
          "base_uri": "https://localhost:8080/",
          "height": 617
        },
        "outputId": "5dc16307-3d6d-4c66-f001-a2de70c0ddd0"
      },
      "execution_count": 170,
      "outputs": [
        {
          "output_type": "display_data",
          "data": {
            "text/html": [
              "<html>\n",
              "<head><meta charset=\"utf-8\" /></head>\n",
              "<body>\n",
              "    <div>            <script src=\"https://cdnjs.cloudflare.com/ajax/libs/mathjax/2.7.5/MathJax.js?config=TeX-AMS-MML_SVG\"></script><script type=\"text/javascript\">if (window.MathJax && window.MathJax.Hub && window.MathJax.Hub.Config) {window.MathJax.Hub.Config({SVG: {font: \"STIX-Web\"}});}</script>                <script type=\"text/javascript\">window.PlotlyConfig = {MathJaxConfig: 'local'};</script>\n",
              "        <script charset=\"utf-8\" src=\"https://cdn.plot.ly/plotly-2.24.1.min.js\"></script>                <div id=\"32ff70d6-06b3-4568-a9f4-594e17b1ca64\" class=\"plotly-graph-div\" style=\"height:600px; width:800px;\"></div>            <script type=\"text/javascript\">                                    window.PLOTLYENV=window.PLOTLYENV || {};                                    if (document.getElementById(\"32ff70d6-06b3-4568-a9f4-594e17b1ca64\")) {                    Plotly.newPlot(                        \"32ff70d6-06b3-4568-a9f4-594e17b1ca64\",                        [{\"alignmentgroup\":\"True\",\"bingroup\":\"x\",\"hovertemplate\":\"Release Year=%{x}\\u003cbr\\u003ecount=%{y}\\u003cextra\\u003e\\u003c\\u002fextra\\u003e\",\"legendgroup\":\"\",\"marker\":{\"color\":\"red\",\"pattern\":{\"shape\":\"\"}},\"name\":\"\",\"nbinsx\":30,\"offsetgroup\":\"\",\"orientation\":\"v\",\"showlegend\":false,\"texttemplate\":\"%{value}\",\"x\":[2020,2016,2011,2009,2008,2016,2019,1997,2019,2008,2017,2018,2019,2018,2019,2014,2018,2018,2019,2017,2018,2018,2017,2017,2020,2015,2020,2020,2019,2020,2020,2018,2020,2017,2018,2016,2014,2016,2016,2019,2015,2017,2010,2020,2005,2013,2014,2017,2017,2012,2008,2018,2018,2020,2016,2014,2016,2020,2017,2014,2017,2014,2015,2020,2019,2014,2016,2017,2010,2018,2016,2006,2009,2020,2016,2019,2018,2008,2014,2013,2013,2015,2018,2016,2013,2019,2018,2017,2016,2017,2016,2012,2018,2017,2000,2016,2014,2003,2015,2016,2009,2018,2015,2016,2011,1989,2020,2020,2019,2019,2017,2018,2019,2017,2019,2015,2019,2017,2014,2018,2014,2004,2011,2012,2019,2018,2017,2019,2015,2014,2019,2017,2019,2016,2018,2018,2011,2016,2018,2017,2016,2020,2016,2019,2016,2011,2019,2020,2017,2011,2016,2016,2017,1977,2020,2018,2016,2020,2018,2017,2019,2018,2016,2004,2019,1971,1993,2014,2020,2015,2016,2019,2016,2018,2018,2017,2012,2020,2020,2020,2013,2015,2017,2013,2019,2015,2011,2019,2017,2019,2016,2017,2019,2018,2020,2006,2014,2018,2019,2020,2020,2007,2010,2016,2012,2016,2014,2014,2017,2020,1998,2015,2015,2020,2012,2013,2016,2011,2020,2019,2011,2016,2015,2020,2011,2019,2009,2020,2016,2009,2017,2015,1988,2017,2019,2018,2015,2019,1996,2019,2012,2016,2020,2016,2020,2018,2017,2015,2018,2008,2002,2008,2017,2020,2017,2018,2015,2016,2015,2018,2019,2018,2011,2017,2009,2013,1988,2018,2008,2018,2011,2010,1993,2010,2019,2019,2015,2015,2013,2012,2017,2016,2016,2017,2012,2002,2013,2019,2020,2019,2015,2016,2009,2018,2013,2015,2007,2012,2010,2010,2017,2018,2018,2020,2019,2018,2018,1986,2014,2018,2018,2017,2013,2018,2017,2015,2018,2016,2018,2020,2013,2017,2019,2020,2019,2012,2018,2019,2020,2017,2008,2012,2014,2018,2017,2010,2018,2017,2019,2015,2020,2018,1990,2018,2009,2006,2012,2019,2018,2014,2020,2020,2015,2004,2018,2012,2020,2009,2015,2016,2017,2020,2014,2019,2015,2019,2017,2020,2017,2017,2017,2017,2019,2016,2018,2018,2019,2020,2018,2020,1979,1989,2019,2019,2015,2016,2018,2018,2017,2017,1980,1974,2020,2019,2017,2020,2019,2020,2020,2018,2016,2017,2018,2018,2019,2020,2020,1989,2020,2019,2017,2017,2016,2019,2018,2017,2006,2020,2018,2020,2017,2020,2009,2019,2017,2020,2020,2019,2016,2019,2001,2013,2014,2014,2017,2018,2020,2020,2019,2019,2016,2016,2002,2017,2015,1977,2011,2018,2018,2017,2014,2013,2016,2017,1999,2017,2017,2016,2017,2018,2018,2019,2019,2019,2014,1998,2016,2019,2018,2020,2015,2020,2000,2019,2018,2019,2019,2017,2017,1966,2015,2019,2017,2013,1986,1991,1999,2000,2019,1982,2018,2012,2017,2012,2018,2017,2020,2014,2018,2014,2017,2017,2010,2018,2018,2008,1994,2018,2020,2020,2020,2020,2015,2017,2014,2010,2001,2019,2018,2020,2009,2003,2018,2015,2020,2018,2019,2020,2018,2018,2020,2014,2018,2018,2015,2013,2013,2016,2019,2011,2018,2016,2019,2016,2019,2018,2017,2018,2019,2015,2006,2018,2019,2007,2012,2017,2019,2016,2005,2016,2011,2018,2015,2016,2016,2015,2018,2019,2020,2019,2016,2018,2014,2020,2017,2020,2017,2020,2011,2011,2016,2019,2019,2019,2019,2011,2011,2019,2018,2014,1997,2018,2018,2018,2018,2017,2019,2001,2016,2020,2019,2019,2015,2020,2016,2016,2018,2003,2015,2020,2019,2012,2012,2016,2013,2014,2016,2019,2016,2020,2010,1994,2016,2002,1997,1999,2016,2014,2009,2020,2007,2018,2019,2018,2017,2018,2019,2019,2020,2015,2018,2020,2017,2018,2018,2016,2015,2013,2019,2018,2013,2017,2017,2016,2017,2017,2017,2015,2015,2015,2015,2018,2005,2018,2006,2020,2020,2018,2019,2018,2020,2016,2016,2019,2018,2016,2019,2015,2018,2014,2019,2019,2015,2019,2020,1995,2003,2017,2014,2017,2014,2014,2018,2017,2016,2018,2013,2006,2019,2019,2019,2020,2020,2018,2019,2016,1995,2001,2004,2017,2015,2017,2020,2017,2015,1978,2010,2015,2016,2019,2002,2018,2018,2019,2019,2009,2015,2009,2016,2020,2017,2013,2017,2018,2020,2010,2015,2015,2012,2020,2016,2010,2011,2016,2012,2017,2017,2016,2019,2017,2015,2012,2013,2016,1995,1998,1992,2019,2016,2017,2016,2018,2016,2018,2015,2018,2016,2018,1972,2019,2019,1982,2011,2015,2016,2015,2015,2018,2013,1997,2013,2010,2019,2015,2018,2017,2015,2019,2016,2016,2015,2016,1996,1992,2008,2017,2016,2020,2018,2007,2008,2007,2018,2015,2017,2016,2016,2016,2015,2001,2017,2018,2015,2010,2016,2015,2011,2016,2014,2018,1975,2016,2015,2015,2018,2016,2009,2016,2020,2019,2017,2019,2018,2004,1978,2019,2008,2012,2017,2020,2019,2012,2012,2013,2020,2018,2016,2020,2016,2014,2020,2020,2016,2018,2020,2019,2018,2019,2017,2018,2016,2019,2019,2018,2005,2010,2016,2017,2019,2018,2009,2006,2013,2017,2017,2020,2018,2013,2020,2015,2006,2019,2019,2013,2019,2017,2018,2018,2020,2007,2003,2017,2014,2014,2016,2017,2016,1997,2017,1999,2017,2002,2018,2012,2020,2014,2017,2012,2020,2017,2002,2019,2014,2010,2019,2017,2012,1991,2015,1992,1993,1989,2018,2017,2009,2000,2018,2016,2017,2020,2015,2016,2018,2019,2016,2018,2017,2016,2016,2018,2010,2012,2015,2018,2019,2010,2017,2018,2004,2001,2014,2014,2019,2015,2019,2018,2014,2018,2014,2015,2017,2007,2017,2019,2019,2013,2020,2015,2017,2018,2017,2006,2008,2010,2016,2016,2015,2013,2021,2015,2013,2017,2016,2020,2016,2012,2020,2018,2019,2017,2020,2001,2019,2017,2013,2013,2016,2016,2017,2013,1999,2010,2005,2017,2020,2018,2016,2013,2007,2018,1991,2015,2017,2020,1973,2014,2018,2018,2016,2018,2011,2018,2018,2020,2014,2017,2019,2001,2008,2017,2018,2013,2016,2017,2015,2017,2006,2016,2019,1967,2019,2019,2020,2003,2016,2018,2017,2017,2019,2012,2018,2019,2014,2016,2018,2017,2016,2013,2005,2013,2017,2017,2011,2008,2013,2016,2016,2016,2009,2017,2016,2016,2016,2018,2018,2007,2020,2013,2016,2018,2014,2020,2018,2020,2010,2014,2019,2013,2015,2014,2010,2018,2019,2020,2017,2005,2014,2019,2020,2016,2017,2017,2018,2016,2017,2015,2017,2019,2015,2009,2019,2019,2006,2019,2017,2015,2016,2016,2017,2017,2018,2018,2013,2020,2012,2017,2017,2016,2018,2016,2020,2018,2017,2020,2018,2012,2018,2020,2017,2010,2017,2017,2005,2018,2019,2017,2012,2017,2019,2016,1960,2018,2012,2015,1981,2017,2019,2008,2016,2016,2017,2019,2020,2020,2014,2016,2009,1958,2018,2015,2018,2018,2020,2017,2019,2017,2020,2016,2018,2020,2019,2018,2018,2018,2014,2016,2017,2014,2014,2012,2020,2018,1998,2017,2007,2018,2019,2017,1992,2016,2019,2020,2019,2017,2020,2020,2016,2020,2017,2016,1999,2016,2012,2018,2008,2020,2019,2016,2018,2020,2021,2020,2015,2019,1976,2016,2009,2012,2016,2015,2009,2015,2006,1992,1992,2017,2018,2015,2020,1958,2002,2018,2015,2016,2017,2010,2018,2015,2016,2016,2017,2018,2012,2018,2000,1996,2014,1976,2014,2010,2000,2017,2020,2003,2020,1992,2019,2004,2018,2010,2010,2018,2016,2017,2015,2017,2019,2005,2000,2003,2019,1973,2019,2021,2013,2013,1997,2016,2017,2016,2017,2016,2015,2015,2016,2020,2020,2016,1992,2016,2014,2017,2019,2020,2016,2017,2016,2014,2014,2013,2012,2015,1999,2017,2019,2012,2018,2018,2018,2019,2019,2017,2017,2005,2018,2020,2020,2018,2019,1988,2020,1994,2019,2017,1994,2011,2020,2017,2017,2019,2020,2012,1968,2009,2019,2017,2020,2019,2019,2017,2015,2017,2020,2021,2018,2015,2014,2018,2017,2016,2019,2020,2012,2017,2015,2017,2018,2017,2018,2018,2004,2018,2016,2006,2019,2019,2019,2019,2019,2019,2017,2006,2017,1975,2018,2017,2011,2016,2016,2015,2015,2016,2015,2020,2009,2020,2018,2016,2002,2013,2018,2016,2018,2016,2008,2019,2010,1993,2020,2018,2012,2020,1973,2017,2006,2017,2017,2017,2019,2018,2016,2013,2012,2014,2009,2013,2008,2018,2018,2015,2016,2017,2016,2016,2016,2019,2005,2018,2021,2005,2018,2018,2020,2015,2019,2008,2007,2007,2020,2017,2017,2017,2017,1999,2019,2013,2019,2016,2015,2016,2018,2018,2015,2018,2012,2008,2016,2018,2019,2019,2016,2018,2017,2015,2019,2002,2016,2018,2016,2013,2014,2020,2017,2014,2014,2015,2016,2008,2020,2019,2014,2017,2016,2020,2018,1967,2017,2015,2016,2020,2009,2020,2015,2017,2018,2017,2020,2016,2016,2017,2016,2014,2021,2018,2017,2004,2019,2016,2020,2015,2020,2019,2018,2018,2016,2016,2021,2015,2014,2017,2019,2019,2019,2019,2017,2017,2019,2019,2019,2020,2020,2017,2016,2018,2000,2016,2017,2019,2019,2017,2019,2019,2020,2020,2018,2014,2013,2020,2015,2017,2018,2014,2018,2013,2016,2013,2015,2020,2005,2015,2014,2015,2013,1989,2020,1977,2003,2019,2015,2017,2015,2013,2017,2016,2018,2013,2017,2020,2016,2018,2016,2019,2016,2016,2016,1992,2020,2012,2018,2019,2017,2015,1997,2017,2018,2018,2019,2015,2020,2016,2016,2020,2020,2019,2017,2015,2013,2018,1956,2003,2015,2016,2020,2020,2020,2017,1991,2017,2017,2019,2020,2020,2020,2016,2016,2019,2016,2017,2002,2017,2018,2019,2017,2017,2019,2020,2018,2015,2018,2019,2008,2020,2019,2006,2018,2019,2020,2020,2016,2016,2012,2018,2016,2011,2019,2016,2010,2018,2020,2017,2017,2020,2017,2020,2017,2016,2014,2017,2017,2016,2013,2002,2017,2008,2016,2017,2017,2009,2011,2019,2014,2018,2018,2020,2015,2018,2014,2018,2015,2018,1992,2017,2019,2017,2015,2018,2018,2018,2019,2019,2019,2017,2018,2017,2020,2017,2019,1997,2020,2017,2016,2016,2009,2019,2016,2017,2018,2017,2004,2013,2007,2007,2015,2015,2014,2017,2015,2010,2009,2018,2020,2019,2019,2015,2018,2017,2017,2015,2020,2002,2015,2016,2019,2019,1990,2001,2015,2002,1998,2014,2018,2019,2015,2007,2010,2020,2016,2008,2017,2018,2018,2020,2018,1985,2020,1982,2018,2017,2021,2018,2017,2009,2017,2016,2019,2012,2020,2020,2010,2009,2017,1965,2019,2016,2018,2018,2019,2019,2020,2019,2019,2020,2019,2014,2019,2006,2011,2015,2015,2010,2015,2016,2017,2019,2011,2014,2016,2016,2016,2020,2012,1997,2005,2019,2013,2020,2019,2019,2020,2008,2020,1999,2020,1989,2008,2018,2017,2020,2018,2003,2018,2012,2020,2018,2019,2006,2020,1996,2015,2000,2017,2020,2018,2014,2018,2020,2020,2020,2020,2016,2017,2017,2021,2015,2005,2011,2017,2011,2008,2008,2009,2011,2017,2020,2016,2015,2019,2018,2019,2018,2019,2015,2019,2018,2018,2018,2018,2018,2015,2014,2003,2003,2018,1984,1998,2016,2017,2018,2019,2016,2014,2020,2014,2014,2015,2018,2019,2015,2018,2019,2010,2009,2010,2018,2019,2015,1983,1987,2018,2018,1998,2008,2018,2017,2019,2018,2018,2019,2014,2019,2015,2009,2006,2009,2004,1983,2005,2019,2012,2016,2012,2013,2017,2019,2008,2010,2018,1979,2017,2010,2018,2018,2019,2020,2017,2017,2020,2019,2018,2018,2013,2019,2019,2017,2018,2017,2016,2018,1971,2012,2006,2019,2020,2020,2019,2019,2020,2016,2019,2018,2014,2015,2016,2018,2015,2016,2008,2020,2020,2020,2016,2016,2017,2018,2014,2006,2018,2002,2016,2018,2012,2018,2013,2018,1996,2018,2016,2020,2014,2018,2019,1973,2016,2017,2015,2017,2002,2020,2016,2020,2012,2018,2017,1990,2009,2020,1985,2016,2017,2018,2020,2018,2018,2019,2020,2007,1998,2017,2019,2010,2018,1997,2016,2019,2019,2015,2014,2016,2018,2019,2018,2001,2019,2015,2011,2019,2008,1996,2018,2019,2013,2012,2001,2017,2017,2014,2019,2019,2018,2020,2020,2006,2019,2019,2016,2019,2010,2011,2014,2009,2016,2020,2017,2018,2017,2020,2017,2019,2009,2019,2015,2018,2011,2019,2014,1998,2017,2019,2018,2018,2018,2017,2018,2020,2020,2015,2018,2019,2017,2014,2016,2018,2015,2017,2015,2020,2018,2008,2020,2019,2020,2020,2016,2017,2018,2016,2015,2012,2017,2018,2020,2012,2020,1998,2020,2015,2020,2020,2017,2020,2020,2012,2017,2020,2018,2018,2018,2012,1986,2004,1971,2020,2015,1996,2018,2008,2018,2016,2015,2017,2015,2000,2003,2006,2017,2017,2020,2020,2016,2017,2019,2012,2019,2013,2018,2015,2015,2017,2018,2018,2017,2018,2018,2018,2018,2017,2016,2019,2017,2015,2018,2015,2016,2019,2017,1982,2015,2014,2000,2017,2008,2020,2018,2016,2019,2018,2018,2020,2016,2018,1978,2017,2018,2020,2017,2016,2017,2011,2015,2010,2015,2012,2015,2019,2018,2018,1977,2016,2017,2017,2017,1956,2016,2016,2020,2011,2019,2018,2016,2019,2011,2018,2017,2011,2020,2020,2008,2016,2013,1994,2007,2019,2016,2012,2019,2019,2018,2016,2007,2020,2019,2017,2018,2018,2020,2018,2007,2016,2019,2018,2019,2016,1993,2018,2018,2015,2016,2015,2015,2016,2019,2020,2017,2009,2016,2019,1980,2014,2016,2017,2013,2010,2016,2018,2018,2011,2011,2011,2008,2013,2018,2013,2020,2020,2019,2015,2020,2020,2017,2010,2017,2018,2016,2020,2019,2017,2020,2019,2017,2009,2004,2016,2015,2021,2019,2017,2016,2018,2018,2017,2015,2017,2013,2016,2017,2011,2020,2012,2019,2019,2019,2018,2009,2020,2016,2003,2014,2002,2016,2018,2014,2007,2008,2009,2016,2013,2019,2009,2011,2018,2015,2016,2016,2018,2019,2017,2017,2018,2018,2015,2016,2020,2016,2020,2003,2017,2011,2020,2010,2019,2017,2020,2014,2017,2008,2016,2005,2013,2013,1990,2017,2020,2017,2013,2016,2007,2020,2014,2012,2013,2019,2020,2018,1997,2005,2019,1958,2006,2016,2013,2020,2013,2008,2012,2020,2019,2018,2018,2019,2013,2020,2017,2017,2007,2019,2018,2019,2012,2015,2019,2020,2015,2019,2020,2016,2017,2019,2020,2012,2010,2018,2020,2020,2020,2019,2019,2018,2015,2016,2017,2014,2018,2017,2017,2017,2018,2018,2020,2018,1979,2013,1995,2019,2017,2016,2014,2008,2006,2016,2018,2015,2017,1997,2018,2019,2009,2016,2014,2019,2012,2007,2017,2020,2005,2014,2019,2017,2019,2012,1990,2016,2017,2011,2016,1998,2018,2013,2018,2001,2012,2019,2003,2015,2018,2020,2020,2008,2017,2020,2017,2013,2013,2019,2012,2014,2015,2017,2019,1978,2016,2017,2020,2017,2016,2019,2019,2019,2019,2015,2016,2020,2020,2018,2019,2019,2015,2017,2016,2018,2018,2016,2016,2019,2020,2020,2020,1993,2018,2015,2019,2020,2017,2007,2007,2018,2015,2010,2017,2002,2015,2013,2013,2009,2015,2016,2013,2010,2012,2019,2014,2014,2015,2016,2007,2018,2016,2017,2005,2017,2018,2009,2015,2017,2000,1987,2018,2017,2016,2020,2017,2014,2017,2013,2020,2018,2015,2016,2018,2017,2018,2018,2013,2012,2018,2018,2014,2017,2019,2014,2019,2014,2016,2019,2015,2020,2015,2020,1986,2015,2015,2018,2018,2009,2018,2005,2008,2004,2015,2014,2010,2017,2015,2016,2014,2010,2020,2017,2014,1999,2015,2020,2018,2018,2017,2015,2007,2019,2017,2017,2018,2020,2016,2017,2015,2016,2015,2015,2011,2003,2020,2016,2015,2015,2018,2018,1998,2016,2021,2011,2017,2019,1999,2001,2017,2017,2017,2011,2018,2016,2020,2017,2015,2015,2015,2016,2016,2004,1999,2020,2019,2017,2019,2015,2015,2016,2013,2020,2018,1976,2016,2018,2014,1997,2019,2016,2017,2012,2018,2017,2020,2019,2016,2017,2019,2015,2018,2010,2016,2016,2017,2017,2016,2019,2019,2019,1988,2020,2020,2018,2019,2017,2015,2014,2016,1988,2018,2021,2020,2013,2016,2020,2015,2020,2010,2015,2019,2020,2017,2021,2016,2012,2005,1977,2017,2016,2017,2015,2015,2019,2016,2016,2006,2018,2015,2016,2020,2020,2019,2019,2019,2016,2018,2020,2017,2019,2017,2016,2008,2010,2017,2020,2020,2019,2018,2019,2019,2020,2018,2011,2018,2007,2014,2018,2011,1991,2020,2011,2018,2020,2018,2017,2015,2013,2019,2020,2016,2013,2020,2020,2016,2017,2017,2016,2018,2019,2015,2017,2016,2007,2017,2017,2009,1975,2017,2018,2019,2012,2018,2017,2016,2016,2019,2018,2017,2000,2017,1997,2015,2020,2020,2018,2018,1995,2020,2020,2017,2014,2016,1992,2012,2020,2019,2011,2009,1994,1999,2019,2006,2014,2011,2014,2016,2010,2020,2013,2015,2015,2015,2011,2016,2018,2012,2016,2005,2020,2018,2018,2017,2019,2016,2010,2020,2020,2016,2013,2017,2019,2010,2018,2016,2015,2019,2018,2016,2020,2017,2015,2016,2018,2020,2019,2016,2016,2017,2011,2017,2014,2010,2019,2019,2019,2019,2019,2010,2016,2015,2016,2015,2013,2019,2019,2019,2020,2019,2017,2018,2017,2017,2016,2016,2014,2017,2010,2014,2020,2018,2018,2008,2017,2016,2018,2015,2019,2013,2018,2009,2018,2020,1974,2012,2018,2012,2014,2017,2016,2012,2018,1990,2018,2018,2016,2017,2018,2019,2017,2019,2020,2017,2016,2019,2019,2016,2011,2016,2010,2014,2019,2017,2017,2015,2018,2014,2015,2017,2020,2008,1989,1981,1984,2016,2013,2016,2009,2018,2018,2013,2019,2020,2005,2012,2013,2008,2017,2017,2005,2019,2019,2019,2018,2017,2015,2017,2018,2021,2010,2017,2018,2019,2013,2007,2019,2016,2015,2016,2008,2018,2015,2016,2020,2007,2020,2001,2004,2003,2001,2002,2019,2009,2017,2018,2017,2019,2008,2010,2015,2019,2006,2010,2009,2018,2019,2018,2014,2011,2019,2018,2015,2018,2019,2003,2015,2009,2020,2018,2014,2017,2015,2013,2017,2019,2013,1995,2019,2012,2016,2015,2020,2017,2020,2017,2014,2015,2019,2020,2018,2020,1986,2006,2008,2017,2007,2013,2018,2016,2017,2019,2020,2020,1997,2017,2015,2019,2019,2016,2015,2017,2020,2009,2019,2017,2014,2013,2012,2018,2020,2016,2016,2019,2018,2018,2020,2008,2019,2014,2013,2001,1973,2018,2014,2006,2019,2011,2012,2017,2015,2008,2016,2019,2020,2015,2015,2017,2017,2019,2019,2016,2015,2008,2017,2020,2002,1998,2014,2016,2018,2016,2019,2017,2003,2009,2017,2005,2017,2009,2012,2014,2014,2016,2020,2018,2017,1973,2016,2019,2001,2018,2017,2020,2017,2019,2013,2011,1960,2019,2020,2017,2018,2017,2012,2017,2008,2017,2017,2018,2016,2005,2018,2012,2013,2020,2018,2017,2019,2018,2012,2015,2020,2013,2014,2017,2012,2018,2015,2018,2015,2017,2000,2017,2018,2016,2019,2020,2015,2016,2019,2017,2017,2015,1997,2017,2011,2017,2009,2020,2017,2014,2019,2015,2011,2005,2015,2020,2020,2007,2005,2018,2016,2013,2017,2012,1992,2011,2016,2012,2016,2019,2012,2002,2010,2011,2012,2013,2009,2016,2013,2017,2019,2015,2019,2005,2020,1981,2017,2016,2019,2006,1994,2001,2019,2016,2012,2014,2013,2010,2019,2003,2012,2016,2019,2019,2017,2016,2009,2017,2019,2017,2020,2017,2016,2020,2015,2019,2007,2016,2010,2017,2008,2019,2016,2001,2012,2007,1982,2019,2017,2016,2007,2018,2012,2006,2006,2015,2018,2017,2005,2017,2019,2015,2019,1990,2014,1996,2019,2019,2020,2019,2009,2019,2011,2013,2010,2016,2020,2019,2018,2001,2017,2017,1993,2018,2013,2018,2014,1973,2006,2011,1980,2003,2018,2017,2017,2016,1995,2018,2015,2016,2015,2019,2019,2003,2004,2016,2015,2014,2019,2016,2011,2014,2014,2019,2020,1988,2019,2017,2010,2017,2012,2016,2014,2020,2015,2018,2018,2005,2012,2017,2017,2018,1996,2017,2020,2020,2015,2009,2008,2017,2018,1997,2020,2016,2020,2017,2017,2013,2019,2019,2015,2019,2015,1945,2009,2005,2012,2015,2016,2018,2006,2016,2019,2018,2014,2012,2018,2020,2003,2020,1972,2014,2009,2013,2016,2012,2017,2017,2010,2013,2015,2020,2019,2004,2013,2019,2017,2003,1998,2017,2016,2018,2004,2010,2010,2016,2017,2018,2017,2009,2013,2016,1998,2014,2012,2000,2005,2016,2017,2001,2004,2019,2019,2016,2017,1987,2020,2016,2016,2016,2016,2016,2016,2020,2017,2017,2016,2020,2017,2020,2019,2004,2010,2016,2016,2018,2011,2018,2019,2017,2016,2019,2017,2006,2019,2018,2015,2017,2001,2018,2016,2004,1971,2010,2011,2015,2018,2017,2019,2020,2015,2019,2018,2015,2019,2020,2019,2012,2018,2015,2010,2020,2018,2020,2011,2002,2012,2012,2004,2016,2017,2014,2019,2018,2010,2016,2003,2011,2011,2011,2015,2018,2017,2013,2014,2019,2015,2010,2017,2017,2019,1982,2017,2016,2010,2016,2014,2017,2017,2018,2016,2018,2019,2018,2016,2015,2018,2017,2020,2019,2016,2019,2013,2019,2010,2020,2015,2017,2013,2016,2012,2020,2018,2017,2019,1946,2006,2015,2013,2019,2014,2020,2018,2015,2013,2017,2014,2010,2018,2010,2014,2007,2018,2012,2018,2009,2019,2016,2018,2014,2006,2018,1997,2019,2018,2018,1992,2019,2015,2018,2014,2017,2012,2012,2016,2020,2017,2013,2018,2019,2017,1990,2019,2019,2016,1983,2017,2015,2016,2016,2016,2018,1989,2000,2020,2018,2019,2019,2020,2019,2020,2019,2016,2019,2017,2018,2017,2018,2020,2017,2019,2019,2019,2014,2019,2016,2018,2017,2013,2017,2016,1982,1998,2013,2020,2018,2020,2012,2017,2014,2015,1976,2019,2016,1962,2017,2017,2020,2015,2017,2017,2017,2016,2009,1990,2015,2015,2019,2015,2015,2017,2012,2019,2019,2017,2016,2020,2015,2020,2017,2019,2018,2018,2017,2010,2015,2018,2016,2020,2020,2020,2019,2018,2017,2017,2013,2016,2014,2015,2019,2013,2018,2019,2013,2010,2015,2019,2010,2019,2018,1997,2020,2015,2012,2017,2012,2016,2017,1994,2019,2018,2012,2016,2018,2011,2016,2020,2017,2015,2013,2014,2019,2020,2014,2017,2017,2014,2016,2020,2016,2016,2006,2019,1995,2010,2017,2017,2020,2019,2019,2019,2016,2018,2017,2020,2009,2019,2017,2010,2005,2020,2019,2018,2019,2020,2017,2018,2019,2018,2021,1979,2018,2015,2018,2012,2017,2017,2020,2020,2017,2012,2014,2013,2016,1979,2014,2008,1987,2016,2016,2008,2019,2017,2019,2018,2004,2013,2016,2017,2016,2013,2020,2016,2013,2019,2018,2015,1999,2016,2013,2010,2015,2014,2017,2010,1981,2013,2010,2009,2004,2005,2005,1989,2015,2018,2020,2020,2016,2018,2017,2019,2020,2018,2018,2019,2020,2019,2018,2019,2018,2017,2020,2013,2017,2015,2018,2020,1983,2017,2014,2016,2014,2017,2020,2018,2020,2017,2020,2019,1999,2017,2007,1974,1999,2015,2018,2017,2017,2018,2017,2014,2017,2017,2020,2016,2020,2013,2017,2019,2017,2018,2017,2016,2015,2019,2017,2012,2015,2019,2016,2016,2018,2018,2016,2018,2019,2019,2018,2018,1986,2002,2017,2019,2016,2014,2011,2011,2015,2020,2018,2016,2018,2013,2019,2018,2017,2019,2017,2014,2018,2016,2020,2020,2013,2016,2019,2012,2012,2020,1983,2016,2017,2018,2017,2017,2012,2006,2018,2018,2020,2013,2018,2014,2017,2016,1993,2019,2017,2017,1988,2016,2017,2016,2011,1973,2020,2018,2020,2019,2017,1985,2016,2017,2017,2013,2018,2012,2017,2019,2017,2016,2003,2017,2019,2018,2018,2017,1997,2002,2020,2008,2017,2016,2009,2018,2016,2018,2016,2019,2018,2019,2018,2015,2012,2019,2019,2018,2017,2017,2020,2013,2014,2018,2016,2016,2016,2017,2019,2018,2009,2015,2017,2011,2017,2016,2017,2020,2020,2019,2009,2016,2020,2020,2014,2019,2018,2016,2020,2020,2020,2019,2020,2021,1996,2010,2014,2013,2017,2019,2008,2015,2019,2017,2018,2020,2019,2018,2008,2019,2020,2019,2017,2015,2017,2017,2019,2016,2019,2015,2014,2016,2018,2016,2017,2013,2004,2019,2019,2018,2018,2019,2012,2016,2014,2019,2017,2019,2020,2020,2019,2015,2015,2016,2020,2014,2014,2017,2012,2011,2015,2015,2016,2019,2014,2017,2008,2018,2014,2015,2014,2018,2019,2018,2014,2016,2018,2000,2016,2019,2017,2016,2015,2019,2015,2017,2017,2014,2018,2003,2021,2016,2015,2020,1997,2019,2017,2014,2018,2016,2017,2017,2013,2015,2017,2012,2014,2013,2011,2014,2012,2016,2015,2010,2013,2013,2006,2017,2012,2005,2014,2014,2013,2011,1975,2014,2008,2014,2000,1998,1982,2014,2009,1972,1974,1979,2005,2018,2009,2016,2015,2015,2018,2020,2016,2019,2013,2011,2012,2017,2020,2016,2020,2020,2016,2019,2016,2019,2016,2017,2020,2013,2018,2016,2018,2018,2016,2002,2015,2020,2014,2016,2015,2009,2017,2018,1984,2007,2013,2020,2012,2017,2016,2015,2020,2015,2012,2017,2012,2019,2004,1989,2006,2012,2014,2003,2008,2018,2014,2014,2014,1987,2017,2011,2017,2018,2019,2007,2020,2017,2015,2019,2013,2017,2017,2018,2020,1962,2015,2010,2012,2010,2016,2015,2018,2005,2019,2017,2017,2019,2013,2016,2017,2015,2019,2011,2007,1991,2017,2020,2015,2012,2017,2019,2016,2017,2016,2018,2015,2016,2014,2018,2018,2018,2018,2016,2002,2020,2019,2020,2017,2013,2015,2020,2018,2018,2016,2017,2001,2015,2017,2017,2009,2008,2018,2016,2019,2009,2013,2018,2017,2012,2016,2011,2017,2014,2020,1999,2018,1988,2020,2003,2014,2017,2019,2017,2013,2017,2014,2006,2020,2016,2014,2020,2019,2020,2019,2021,2019,2017,2017,2016,1982,2007,2016,1999,2015,2018,2017,2020,2019,2006,2008,2009,2011,2007,2010,2005,2006,2004,2013,2020,2018,2017,2020,2010,2019,2018,2016,1993,2016,2004,2016,2016,2015,2018,2016,2016,2009,2009,2016,2015,2013,1945,2016,2017,2019,2017,2014,2016,2018,2018,1995,2016,2009,2016,2020,2018,2018,2018,2004,2017,2016,2007,2018,2018,2020,2017,2018,2018,2018,2013,2018,2020,2020,2021,2014,2018,2016,2016,2008,2019,2016,2019,2009,1981,1997,2019,2020,2015,2018,2005,2005,2018,2014,2017,2019,1979,2011,2017,2011,2007,2019,2016,2016,2019,2020,2020,2017,2019,2016,2016,2018,2017,2020,2019,2019,2016,2020,2004,2019,2017,2020,2016,2018,2018,2019,2017,2018,2017,2017,2017,2017,2018,2017,2017,2018,2017,2017,2017,2017,2017,2018,2017,2018,2018,2012,2018,2017,1995,2016,2009,2019,2016,2018,2019,2012,2015,2011,2015,2016,2013,2013,2016,2016,2016,2014,2009,2018,2019,1960,2007,2004,2017,2020,2015,2020,2020,2017,2018,2018,2018,2015,2015,2020,2011,2016,2016,2017,2017,1995,2015,2011,2012,2015,2012,2014,2020,2017,2019,2019,2019,2019,2013,2016,2017,2018,2017,2020,2018,2015,2013,2018,2014,2013,2007,2009,2012,2020,2017,2018,2020,2018,2017,1983,2017,2016,2010,2018,2018,2018,2018,2018,2018,2018,2018,2018,2019,2019,2019,2010,2013,1968,2001,2014,2016,2019,2020,2019,2013,2017,2016,1998,2018,2017,2016,2012,2016,2017,2006,2002,2019,2018,2020,2015,2020,2019,2013,2018,2015,2006,2016,2015,2020,2016,2016,2016,2018,2012,2012,2018,2016,1984,2019,2019,2017,2018,2016,2016,2005,2018,2017,2011,2019,2016,2019,2017,2019,2014,2019,2018,2011,2016,2019,2019,2017,2017,2006,1991,2018,2017,2015,2020,2017,2018,2018,2018,2021,2020,2020,2017,2017,2008,2020,2006,2015,2016,2007,2010,2017,2017,2020,2017,2012,2007,2014,2016,2019,2016,2017,2018,2015,2019,2013,2019,2005,2018,2007,2002,2016,1988,2011,2019,2004,2015,2015,2006,2020,2017,2016,2002,2019,2017,2014,2000,2018,2018,2018,2019,2018,2020,2018,2016,2020,2007,2018,2016,2012,2014,2019,1997,2017,2018,1990,2019,2019,2015,2018,1989,2017,2018,2003,2018,1992,2020,2016,2011,2017,2019,2019,2020,1992,2014,2017,2020,2016,2009,2017,2016,2010,2018,2009,2016,2019,2018,2015,2013,2016,1990,1988,2010,2019,2014,2016,2019,2018,2006,2014,2016,2018,2016,2018,2017,2018,2017,2007,2018,2018,2016,2019,2016,2020,2016,2018,2020,2019,2019,2016,2018,2015,2015,1993,2000,2006,2015,2009,2012,2016,2017,2018,2017,2020,2018,2018,2018,2019,2017,2018,2008,2016,2019,2019,2018,1946,1925,2002,2014,1998,2018,2014,2018,2009,2016,2006,2010,2016,1986,2012,2012,1980,2018,2019,2020,2018,2017,2015,2008,2015,2015,2014,2016,2019,2020,2017,2018,2019,2000,2019,2019,2019,2020,2018,2013,2018,2017,2018,1980,2016,2013,2018,2016,2019,2006,2017,2016,2019,2018,2017,2017,2017,2010,2016,2017,2020,2020,2015,2016,2004,1998,2008,2000,1999,2006,2018,2003,2007,2009,2005,2011,2011,2011,2011,2014,2014,2012,2012,2012,2001,1997,2002,1996,2013,2013,2013,2013,2019,2019,1942,2015,2013,2015,2010,2021,2018,2018,2012,1996,1969,1984,2017,2019,2018,2017,2014,2017,2018,2020,2012,1962,2018,2011,2016,2017,2018,2020,2017,2008,2019,2018,2016,2020,2018,2018,2011,2020,2015,2016,2000,2018,1994,2014,2020,2016,2017,2018,2018,2017,2012,2017,2011,2019,2011,2015,2006,2014,1986,2019,2017,2019,1998,2012,2018,2020,2015,2018,2008,2012,2014,2009,2015,2018,2020,2017,2018,2020,2019,2018,2019,1988,1990,2018,2017,2019,2008,2010,2020,2012,2018,2004,2008,2013,2009,2008,2013,2012,2015,2018,2017,2016,2018,1980,2011,2014,2020,2015,2015,2016,1988,2018,2016,2016,2019,2016,2002,1996,2014,2014,2018,1974,2018,2019,2018,2015,2015,2018,1995,1985,2016,2012,2018,2005,2016,2018,2010,2006,2011,2017,2017,2018,2020,2021,2016,2019,2017,2019,1984,2015,2017,2018,2011,2011,2019,2008,2010,2017,2011,2015,2020,2020,1955,2004,2016,2016,2018,2018,2019,2018,2020,2018,2016,2016,1984,2017,2017,2013,2016,2016,2015,2016,2017,2020,2012,2017,2012,2019,2019,2019,2019,2019,2018,2018,2018,2015,2015,2010,2017,2018,2015,2014,2012,2014,2018,2010,2017,2020,2020,2016,2015,2017,2018,2017,2016,1976,1980,2016,2017,2014,2019,2018,2018,2018,2017,2017,2017,2008,2012,2020,2020,2020,2019,2016,2016,2016,2018,2019,2020,1979,2015,2018,2020,2019,2020,2018,2008,2019,2019,2017,2015,2015,2017,2016,2017,2020,2013,2018,2010,2020,2020,2020,2011,2019,2018,2019,2005,2016,2020,2010,2015,2009,2020,2016,2018,2015,2018,1985,2018,2016,2019,2008,2019,1976,2016,1979,1982,1985,1990,2017,2017,2017,2020,2019,2020,2014,2018,2017,2015,2019,2018,2019,2020,2019,2010,2013,2019,2014,2018,2018,2018,2019,2019,2015,2020,2017,2012,2016,2020,2016,2020,2017,2018,2020,1968,2020,2019,1998,2012,2018,2016,2004,2016,2020,2000,2017,2016,1995,2005,2004,2020,1999,2018,2020,2018,2017,1998,2010,2018,2017,2015,2013,2016,2013,2019,2019,2020,2016,2017,2016,2016,2003,2020,2015,2019,1982,2019,2016,2017,2018,2019,2013,2017,2014,2016,1983,2014,2016,2018,2012,2017,2016,2013,1986,2009,2016,2019,2007,2019,1975,1963,2018,2014,2018,2014,2020,1987,1991,1991,2016,2017,2019,2017,2017,2013,2014,2012,2018,2018,2017,1945,2008,2017,2016,2017,1964,2018,2020,2016,2019,2014,2019,2016,2010,2020,2018,2018,2020,2017,2010,2014,2015,2016,2005,2018,2018,2018,2017,2017,2008,2018,2014,2012,2017,1982,2014,2017,2013,2016,2017,2018,2017,2015,2019,2017,2013,2019,2018,2020,2014,1985,2017,2019,2018,1955,2011,2019,2000,2013,1993,2020,1988,2019,2016,2020,2020,1998,2012,2018,2010,2019,1997,2000,2018,2013,2018,2012,2014,1993,2012,2011,2018,2019,2012,2016,2015,2007,2014,2016,2015,2019,2015,2016,2017,2019,2018,2013,2013,2016,2013,2014,2013,2013,2014,2020,2013,2014,2014,2017,2017,2019,2018,2018,2019,2018,2020,2020,2015,2020,2015,2012,2010,2018,2016,2015,2016,2017,2020,2018,2020,2020,2015,2018,2008,2011,2019,2018,2020,2013,2019,2019,2018,2017,2018,2008,2018,2017,2019,2014,2010,2008,2016,2008,2020,2020,1999,2019,2019,2019,2019,2005,2018,2016,2011,2011,1986,2002,2019,2012,2019,2002,2002,2011,2018,2016,2020,2020,2008,2020,2020,2020,2019,2006,2020,2014,2018,2010,2013,2019,2010,2016,2017,2009,1991,2020,2017,2018,2020,2018,1990,2018,2018,2007,2014,2016,2018,2017,2011,2016,2013,2016,2009,2017,2017,2016,2004,2013,2015,2017,2017,2004,2018,2019,2020,2018,2017,2018,2008,2014,2018,2014,2016,2020,2018,2014,2012,2016,2019,2016,2012,2015,2016,2019,2012,2017,2019,2008,2018,2015,2018,2020,2020,2020,1960,2019,2013,2011,2015,2018,2018,2015,2017,2015,2017,2019,2016,2018,2016,2015,1998,2012,2018,2020,2020,2019,2020,2014,2016,2016,2017,2016,2016,2016,2020,2014,2018,2010,2019,2017,2019,2015,2019,2019,2019,2020,2004,1996,1993,2018,2017,2015,2017,1998,2017,2008,2017,2016,2018,2015,2020,2016,2000,2016,2013,2020,2005,2018,2020,2013,2016,2018,2017,1984,2020,1998,2018,1991,2018,2018,2009,2015,2017,2020,2019,2020,2015,2017,2018,2003,2016,2017,2019,2013,2015,2014,2018,2020,2018,2003,2016,2017,2018,2008,2016,2008,2015,2011,2019,2019,2016,2020,2000,2020,2016,2014,2015,2016,1976,2017,2018,2013,2019,2013,2016,2016,2020,2017,2019,2020,2020,2017,2014,2007,2018,2020,2019,2020,2020,2019,2019,2017,2018,2017,2018,2009,2019,2004,2015,2015,2012,2018,2018,2001,2002,2003,2011,2018,2015,2017,2018,2019,2018,2015,2015,1968,1999,2004,1993,2000,2017,2014,2020,2020,2007,2006,2013,2018,2004,2020,2014,2020,2015,2018,2019,2006,2006,2019,2018,2008,2018,2018,2017,2014,2015,2018,2010,2010,2018,2019,2015,2010,2020,2017,2014,2014,2015,2015,2017,2016,2020,2019,1987,2016,2020,2006,2019,2019,2015,2010,2018,2019,2019,2020,2018,2018,1992,2016,1981,1996,2016,2017,2017,2016,2017,2018,2018,1999,2002,2021,2018,2019,2018,2019,2019,2019,2015,2020,2011,2018,2013,2015,2020,2020,2020,2014,2014,2018,2019,2015,2020,2017,2017,2020,2018,2016,2014,2019,2018,2017,2019,2018,2019,2018,2019,2019,2018,2019,2019,2018,2020,2020,2020,2019,2014,2020,2007,1972,2019,2018,2006,1993,2019,2016,1999,2019,2002,2016,2007,2015,2017,2021,2017,2019,2020,2019,2014,2017,2017,2016,2018,2019,2004,1977,2018,2014,2014,2007,2020,2017,2019,2018,2016,2018,2018,2018,2016,1980,2001,2018,2018,2010,2020,1999,2007,2017,2020,2008,2020,2017,2011,2018,2017,2018,2018,2018,2010,2014,2012,2009,2018,2018,2019,1993,2017,2019,2016,2014,2015,2011,2018,1993,2011,2017,2006,2018,2015,2020,1999,2005,2013,2017,2018,2012,1976,2018,2018,2020,2014,2016,2016,2017,2016,2020,2003,2019,2019,2018,2018,2011,2010,2020,2016,2007,1991,1990,2010,2019,2016,2017,2017,2015,2012,2010,2016,2003,2009,2015,2017,2016,2018,2019,2017,2018,2016,2012,2015,2012,2019,2019,2019,2019,2011,2005,2015,2013,2018,2020,2016,2018,2018,2016,2020,2018,2019,2019,2007,2016,2019,2018,2017,2018,2015,2010,2016,2018,2005,1993,2011,2007,2016,2018,2016,2019,2014,2020,2013,2019,2018,1995,2005,1967,2018,2019,2019,2010,2014,2015,2019,2020,2016,2017,2013,2000,2011,2018,2016,2016,2018,2016,2020,2017,2020,2009,2010,2017,2016,2015,2016,2018,2017,2017,1993,2020,2018,2014,1942,2004,2020,2008,2012,2016,2020,2016,2016,2011,2015,2018,2020,2020,2018,2020,2018,2018,2017,2019,2017,2016,2015,2019,1954,2016,2018,2016,2019,2013,2019,2001,2005,2019,2019,2016,2011,2019,2010,2020,2013,2020,2020,2015,2019,2010,2009,2016,2008,2010,2019,2020,2020,2019,2007,2019,2017,2018,2018,2006,2018,2015,2017,2017,2020,2017,2005,2007,2013,1983,2018,2020,2013,2017,2019,2016,2020,2017,2020,2018,2014,1977,2019,2017,2017,2019,2014,2017,2016,2018,2006,2019,2016,2015,2020,2017,2010,2016,2019,2015,2013,2018,2020,2016,1965,2020,2020,2020,2017,2020,2017,2018,2019,2011,2019,2018,2018,2010,2018,2018,2019,2019,2016,2018,2013,2013,2011,2018,1996,2016,2019,2020,2015,2015,2020,2013,1994,2020,1970,1992,2019,2015,2018,2016,2015,2006,2009,2011,2015,1982,2019,2018,2016,2016,2015,2017,2017,2015,2020,2016,2010,2017,2005,2017,2018,2020,2020,2019,2019,2019,2018,2006,2017,2017,2020,2017,2012,2013,2019,2020,2018,2016,2015,2019,2019,2017,2018,2019,2017,2016,2016,2016,2017,2019,2009,2016,2009,2016,2018,2011,2020,2016,2005,2007,2018,2020,2019,2016,2015,2016,1994,2019,1997,2019,2015,2017,2019,2020,2019,2020,1981,2016,2020,2016,2019,2013,2010,2012,2015,2018,2010,2010,2009,2009,2018,2015,2014,2019,1996,2016,1978,2018,2019,1994,2000,2017,1975,2008,2017,2017,2016,2019,2020,2014,2020,2017,2016,2017,2016,2017,2013,2016,2015,2016,2007,2008,2018,2013,2018,2003,2018,2017,2018,2020,2019,2017,2020,2018,2016,2011,2007,2016,2018,2018,2017,2018,2020,2016,2020,2009,2020,2014,2015,2015,2014,2016,2013,2018,2020,2020,2018,2012,1979,2019,2020,2011,2005,2013,2011,2013,2016,2018,2018,2013,2020,2018,2019,2015,2015,2020,2017,2013,2020,2018,2008,2017,2020,2020,2007,2018,2011,2017,2015,2017,2019,2012,2019,2018,2020,2020,2016,2017,2005,2015,2018,2020,2017,2020,2019,2016,2015,2018,2013,2017,2018,2014,2015,2018,2016,2019,2021,2020,2009,2012,2011,2020,2010,2014,2017,2018,2018,2017,1995,2019,2009,2018,2020,2018,2018,2016,2018,2009,1998,2011,2009,2018,2017,2016,2015,2008,2019,2019,2011,2014,2018,2013,2016,2015,2010,2007,2018,2016,2018,2010,2013,2016,2010,2017,2017,2017,2017,2018,2019,2019,2020,2019,2010,2017,2018,2020,2003,2019,2019,2009,2017,2006,2017,1970,2012,2018,2018,2016,2020,2010,2019,1991,2019,2020,2020,1992,2010,2016,2018,2017,2020,2020,2019,2014,2019,2017,2018,2018,2016,2019,2020,2019,2020,2016,2019,2018,2020,2018,2019,2017,2002,2008,2019,2014,2016,2019,2019,2020,2019,2013,2017,2020,2019,2020,2020,2010,2016,2016,2017,2018,2009,2015,2019,2017,1982,2006,2015,2015,2017,2019,2018,2019,1974,2008,2014,2003,2002,2017,2020,2019,2015,2008,2020,2017,2016,1982,1993,2017,1997,2018,2020,2020,2020,2020,2020,2012,2018,2009,2019,2017,2017,1981,2017,1998,2015,2012,2020,1999,2003,2003,2017,2018,2017,2013,2019,2015,1944,2009,2020,2015,2015,2017,2013,2020,2020,2017,2019,2016,2019,2021,2012,2020,2017,2016,2018,2011,2016,2017,2012,2017,2016,2016,2015,2018,2018,2017,2017,2018,2017,2019,2017,2011,2015,2017,2019,1991,1988,1984,1944,2019,2021,2020,2020,2018,1994,2016,2018,2020,2018,2017,2017,2016,2014,2018,2019,2011,2020,2012,2020,2007,2018,2014,2008,2018,2020,2000,2018,1999,2010,2015,2018,2017,2017,2020,2019,2004,2018,2019,2018,2020,2003,2001,2016,1997,1993,2019,2018,2014,2017,2019,2019,2012,2004,2020,2018,2013,2006,2014,2017,2012,2007,2012,2018,2015,2020,2020,2012,2020,2004,2020,2018,2017,2004,2017,2014,2004,2019,2005,2009,2018,2020,2016,2017,2019,2020,2016,2019,2020,2019,2006,2018,2009,1968,2020,2018,2020,2018,2020,2008,1997,2020,2016,2010,2006,2015,2016,2016,2019,2017,2016,2019,2019,2018,2015,2017,2018,2015,2016,2015,2016,2011,2002,2014,2020,2018,2018,2016,1994,2017,2019,2019,2016,2011,2020,2014,2014,2017,2017,1998,2011,2010,2015,2017,2019,1989,2017,2014,2012,2020,1973,2001,2015,2020,2016,2018,2019,2019,2019,2018,2014,2015,2018,2014,2013,2017,2019,2016,1955,2014,2019,2019,2019,2020,2015,2013,2018,2018,2019,2020,2011,2013,2017,2020,2010,2019,2019,2016,2018,2016,2013,2020,2008,1978,2019,2019,2010,2019,2013,2005,2018,2020,2018,2015,2016,2017,2017,2019,2020,2017,2004,2018,2015,2017,1989,2016,2020,2018,2016,2009,1999,2016,2018,1974,2014,2013,2016,2020,2016,2017,2002,2009,2018,2010,2019,2018,2016,2017,2018,2019,2020,2020,2018,2017,1996,2016,2015,2008,2016,2016,2010,2002,2019,1963,2004,2019,2009,2009,2020,2011,2020,2020,2017,2019,2009,2015,2016,2013,2019,2016,2020,2019,2017,2020,2017,2020,2015,2017,2018,2020,2017,2016,2015,2018,2015,2019,2007,2018,2014,2007,1998,2006,2016,2017,2019,2018,2005,2016,2018,2015,2020,2020,2017,2015,2018,2018,2019,2020,1976,2019,2010,2016,2016,2020,2017,1999,2018,2019,2019,2018,2020,2016,2019,2017,2020,2019,2009,2016,2016,1985,2019,2016,2017,2013,1988,2019,2016,2016,2007,2019,2016,2018,2018,2017,2020,2019,2014,2019,2017,2015,2017,2015,2015,2020,2020,2020,2020,2017,2017,2011,2010,2010,2019,2016,2019,2018,2018,2010,2018,2019,2017,2017,1947,2018,2019,2017,2017,2019,2019,2017,2015,2018,2016,2020,2020,2019,2016,2017,2019,1990,1991,2011,2008,2015,2013,2018,2020,2017,2017,2009,2014,2010,2016,2014,2018,2020,2019,2020,2014,2018,2017,2018,2020,2006,2016,2019,2018,2017,2020,1995,2015,2018,2017,2017,2018,2012,2018,2016,2009,1999,2017,2017,2017,2010,2001,2011,2020,2020,2014,2018,2016,2016,1997,2017,2016,2020,2016,2019,2020,1988,2017,2019,2018,2019,2018,2016,2008,2020,2016,2001,2015,2016,1990,2018,2016,2019,2015,2017,2007,2018,2014,2014,2009,2015,2016,2017,2008,2020,2006,2004,2007,2016,1996,2008,2019,2017,2014,2017,2017,2013,2020,2020,2016,2016,2020,2020,2014,2016,2020,2018,2018,2019,2019,2017,2019,2015,2018,1990,1995,2001,2004,2015,2018,2020,2016,2017,2018,2019,2020,2020,2021,2019,1985,1995,2020,2016,2014,2016,2019,2019,1991,2019,2018,2017,2019,2017,2004,2017,2018,2017,2018,2019,1969,2016,2017,2019,2020,2019,2019,2018,2020,2020,2019,2019,2018,2020,2015,2018,2017,2016,2019,2010,2012,2010,2020,2019,2016,2019,1944,2019,2013,2016,2017,2019,2017,2014,2019,2010,2019,2020,1990,2007,2018,2018,2015,2018,2013,2018,2016,2019,2020,2015,2019,2008,2016,2020,2010,2016,2013,2008,2020,2015,1959,2018,2018,2019,2019,2020,2019,2020,2015,2015,2016,2018,2006,2017,2020,2019,2019,2020,2018,2019,2017,2016,2016,2019,2020,2019,2019,2011,2017,2016,2016,2007,2018,2020,2016,2013,2020,2019,2016,2017,1943,2013,2017,2012,2014,2014,2019,2017,2017,2011,2020,2020,2019,2020,2019,2017,2012,2011,2018,2020,1990,2020,2018,2020,2018,2009,2018,2011,2020,2019,2019,2017,2020,2018,2018,2016,2019,2005,2019,1995,2019,2018,2020,2020,2018,2008,2020,2020,2019,2018,2008,2020,2016,2016,2018,2016,2017,2016,2016,2019,2018,2020,2017,2017,2018,2008,2017,2015,2012,2012,2017,2018,1991,2015,2013,2006,2018,2016,2020,2016,2016,2018,2019,2018,2017,2020,2018,2020,2013,2020,2010,2014,2015,2017,2014,2006,2001,2004,2018,2018,2020,2018,2018,2017,2016,2018,2018,2011,2015,2018,2017,2013,2016,2015,2012,2019,2015,2010,2005,2017,2009,2016,2017,2014,2017,2017,2019,2017,2015,2019,2019,2018,2018,2007,2013,2013,2011,2017,2016,2014,2015,2018,2020,2014,2020,2020,2020,2019,2017,2018,2018,2011,2016,1979,2010,2019,2020,2020,2019,2014,2015,2018,2018,2020,2018,2016,2018,2020,2018,2017,2012,2017,2015,2018,1983,2017,2018,2018,2012,2016,2016,2007,2015,2013,2016,2014,2008,2020,2018,2017,2009,2020,2020,1999,2016,2015,1967,2018,2003,2019,2015,2017,2019,2003,2017,2020,2018,2020,2017,2021,2015,2016,2019,2015,2012,2018,2000,2017,2017,2018,2019,2013,2017,2015,2020,2017,2020,2021,1993,2005,2002,2006,2009,2017,2020,2018,2017,2013,2018,2015,2014,2019,2019,2016,2018,2000,2017,2015,2019,2020,2004,1980,2018,1954,2018,2016,2019,2016,2020,2016,2016,2019,2010,2019,2020,2017,2019,1967,2011,2017,2020,2016,2016,2015,1943,2015,2013,2008,2019,2016,2018,1999,2018,2018,2017,2019,1971,2017,2020,2018,2019,2017,2016,1981,2015,2014,2010,2015,2019,2014,2019,2020,2021,2015,2017,2011,2016,2017,2020,2018,2016,2010,2019,2019,2014,2017,2019,2017,2020,2020,2020,2020,2014,2020,2017,2006,2009,2017,2020,2015,2017,2013,2018,2015,2016,2019,2009,1943,2014,1994,2018,2011,2015,2016,2016,2017,2002,2005,2001,2008,2020,2001,1994,2011,2013,2006,2019,2019,2018,2020,2014,2018,2014,2008,2010,2012,2015,2014,2020,2018,2015,2016,2016,2016,2015,2016,2018,2018,2020,2019,2020,2017,2017,2020,2015,2009,2008,2017,2019,2016,2015,2008,2020,2017,2011,1973,2020,2019,2014,2020,2018,2012,2020,2005,2019,2016,2009,2005,2015,2018,2019,2016,2004,2018,2018,2006,2008,2016,2005,2014,2014,2009,2018,2018,2016,2012,2016,2011,2015,2018,2016,2016,2007,2018,2011,2018,2009,2019,2018,2006,2005,2015,2019,2019,2019],\"xaxis\":\"x\",\"yaxis\":\"y\",\"type\":\"histogram\"}],                        {\"template\":{\"data\":{\"histogram2dcontour\":[{\"type\":\"histogram2dcontour\",\"colorbar\":{\"outlinewidth\":0,\"ticks\":\"\"},\"colorscale\":[[0.0,\"#0d0887\"],[0.1111111111111111,\"#46039f\"],[0.2222222222222222,\"#7201a8\"],[0.3333333333333333,\"#9c179e\"],[0.4444444444444444,\"#bd3786\"],[0.5555555555555556,\"#d8576b\"],[0.6666666666666666,\"#ed7953\"],[0.7777777777777778,\"#fb9f3a\"],[0.8888888888888888,\"#fdca26\"],[1.0,\"#f0f921\"]]}],\"choropleth\":[{\"type\":\"choropleth\",\"colorbar\":{\"outlinewidth\":0,\"ticks\":\"\"}}],\"histogram2d\":[{\"type\":\"histogram2d\",\"colorbar\":{\"outlinewidth\":0,\"ticks\":\"\"},\"colorscale\":[[0.0,\"#0d0887\"],[0.1111111111111111,\"#46039f\"],[0.2222222222222222,\"#7201a8\"],[0.3333333333333333,\"#9c179e\"],[0.4444444444444444,\"#bd3786\"],[0.5555555555555556,\"#d8576b\"],[0.6666666666666666,\"#ed7953\"],[0.7777777777777778,\"#fb9f3a\"],[0.8888888888888888,\"#fdca26\"],[1.0,\"#f0f921\"]]}],\"heatmap\":[{\"type\":\"heatmap\",\"colorbar\":{\"outlinewidth\":0,\"ticks\":\"\"},\"colorscale\":[[0.0,\"#0d0887\"],[0.1111111111111111,\"#46039f\"],[0.2222222222222222,\"#7201a8\"],[0.3333333333333333,\"#9c179e\"],[0.4444444444444444,\"#bd3786\"],[0.5555555555555556,\"#d8576b\"],[0.6666666666666666,\"#ed7953\"],[0.7777777777777778,\"#fb9f3a\"],[0.8888888888888888,\"#fdca26\"],[1.0,\"#f0f921\"]]}],\"heatmapgl\":[{\"type\":\"heatmapgl\",\"colorbar\":{\"outlinewidth\":0,\"ticks\":\"\"},\"colorscale\":[[0.0,\"#0d0887\"],[0.1111111111111111,\"#46039f\"],[0.2222222222222222,\"#7201a8\"],[0.3333333333333333,\"#9c179e\"],[0.4444444444444444,\"#bd3786\"],[0.5555555555555556,\"#d8576b\"],[0.6666666666666666,\"#ed7953\"],[0.7777777777777778,\"#fb9f3a\"],[0.8888888888888888,\"#fdca26\"],[1.0,\"#f0f921\"]]}],\"contourcarpet\":[{\"type\":\"contourcarpet\",\"colorbar\":{\"outlinewidth\":0,\"ticks\":\"\"}}],\"contour\":[{\"type\":\"contour\",\"colorbar\":{\"outlinewidth\":0,\"ticks\":\"\"},\"colorscale\":[[0.0,\"#0d0887\"],[0.1111111111111111,\"#46039f\"],[0.2222222222222222,\"#7201a8\"],[0.3333333333333333,\"#9c179e\"],[0.4444444444444444,\"#bd3786\"],[0.5555555555555556,\"#d8576b\"],[0.6666666666666666,\"#ed7953\"],[0.7777777777777778,\"#fb9f3a\"],[0.8888888888888888,\"#fdca26\"],[1.0,\"#f0f921\"]]}],\"surface\":[{\"type\":\"surface\",\"colorbar\":{\"outlinewidth\":0,\"ticks\":\"\"},\"colorscale\":[[0.0,\"#0d0887\"],[0.1111111111111111,\"#46039f\"],[0.2222222222222222,\"#7201a8\"],[0.3333333333333333,\"#9c179e\"],[0.4444444444444444,\"#bd3786\"],[0.5555555555555556,\"#d8576b\"],[0.6666666666666666,\"#ed7953\"],[0.7777777777777778,\"#fb9f3a\"],[0.8888888888888888,\"#fdca26\"],[1.0,\"#f0f921\"]]}],\"mesh3d\":[{\"type\":\"mesh3d\",\"colorbar\":{\"outlinewidth\":0,\"ticks\":\"\"}}],\"scatter\":[{\"fillpattern\":{\"fillmode\":\"overlay\",\"size\":10,\"solidity\":0.2},\"type\":\"scatter\"}],\"parcoords\":[{\"type\":\"parcoords\",\"line\":{\"colorbar\":{\"outlinewidth\":0,\"ticks\":\"\"}}}],\"scatterpolargl\":[{\"type\":\"scatterpolargl\",\"marker\":{\"colorbar\":{\"outlinewidth\":0,\"ticks\":\"\"}}}],\"bar\":[{\"error_x\":{\"color\":\"#2a3f5f\"},\"error_y\":{\"color\":\"#2a3f5f\"},\"marker\":{\"line\":{\"color\":\"#E5ECF6\",\"width\":0.5},\"pattern\":{\"fillmode\":\"overlay\",\"size\":10,\"solidity\":0.2}},\"type\":\"bar\"}],\"scattergeo\":[{\"type\":\"scattergeo\",\"marker\":{\"colorbar\":{\"outlinewidth\":0,\"ticks\":\"\"}}}],\"scatterpolar\":[{\"type\":\"scatterpolar\",\"marker\":{\"colorbar\":{\"outlinewidth\":0,\"ticks\":\"\"}}}],\"histogram\":[{\"marker\":{\"pattern\":{\"fillmode\":\"overlay\",\"size\":10,\"solidity\":0.2}},\"type\":\"histogram\"}],\"scattergl\":[{\"type\":\"scattergl\",\"marker\":{\"colorbar\":{\"outlinewidth\":0,\"ticks\":\"\"}}}],\"scatter3d\":[{\"type\":\"scatter3d\",\"line\":{\"colorbar\":{\"outlinewidth\":0,\"ticks\":\"\"}},\"marker\":{\"colorbar\":{\"outlinewidth\":0,\"ticks\":\"\"}}}],\"scattermapbox\":[{\"type\":\"scattermapbox\",\"marker\":{\"colorbar\":{\"outlinewidth\":0,\"ticks\":\"\"}}}],\"scatterternary\":[{\"type\":\"scatterternary\",\"marker\":{\"colorbar\":{\"outlinewidth\":0,\"ticks\":\"\"}}}],\"scattercarpet\":[{\"type\":\"scattercarpet\",\"marker\":{\"colorbar\":{\"outlinewidth\":0,\"ticks\":\"\"}}}],\"carpet\":[{\"aaxis\":{\"endlinecolor\":\"#2a3f5f\",\"gridcolor\":\"white\",\"linecolor\":\"white\",\"minorgridcolor\":\"white\",\"startlinecolor\":\"#2a3f5f\"},\"baxis\":{\"endlinecolor\":\"#2a3f5f\",\"gridcolor\":\"white\",\"linecolor\":\"white\",\"minorgridcolor\":\"white\",\"startlinecolor\":\"#2a3f5f\"},\"type\":\"carpet\"}],\"table\":[{\"cells\":{\"fill\":{\"color\":\"#EBF0F8\"},\"line\":{\"color\":\"white\"}},\"header\":{\"fill\":{\"color\":\"#C8D4E3\"},\"line\":{\"color\":\"white\"}},\"type\":\"table\"}],\"barpolar\":[{\"marker\":{\"line\":{\"color\":\"#E5ECF6\",\"width\":0.5},\"pattern\":{\"fillmode\":\"overlay\",\"size\":10,\"solidity\":0.2}},\"type\":\"barpolar\"}],\"pie\":[{\"automargin\":true,\"type\":\"pie\"}]},\"layout\":{\"autotypenumbers\":\"strict\",\"colorway\":[\"#636efa\",\"#EF553B\",\"#00cc96\",\"#ab63fa\",\"#FFA15A\",\"#19d3f3\",\"#FF6692\",\"#B6E880\",\"#FF97FF\",\"#FECB52\"],\"font\":{\"color\":\"#2a3f5f\"},\"hovermode\":\"closest\",\"hoverlabel\":{\"align\":\"left\"},\"paper_bgcolor\":\"white\",\"plot_bgcolor\":\"#E5ECF6\",\"polar\":{\"bgcolor\":\"#E5ECF6\",\"angularaxis\":{\"gridcolor\":\"white\",\"linecolor\":\"white\",\"ticks\":\"\"},\"radialaxis\":{\"gridcolor\":\"white\",\"linecolor\":\"white\",\"ticks\":\"\"}},\"ternary\":{\"bgcolor\":\"#E5ECF6\",\"aaxis\":{\"gridcolor\":\"white\",\"linecolor\":\"white\",\"ticks\":\"\"},\"baxis\":{\"gridcolor\":\"white\",\"linecolor\":\"white\",\"ticks\":\"\"},\"caxis\":{\"gridcolor\":\"white\",\"linecolor\":\"white\",\"ticks\":\"\"}},\"coloraxis\":{\"colorbar\":{\"outlinewidth\":0,\"ticks\":\"\"}},\"colorscale\":{\"sequential\":[[0.0,\"#0d0887\"],[0.1111111111111111,\"#46039f\"],[0.2222222222222222,\"#7201a8\"],[0.3333333333333333,\"#9c179e\"],[0.4444444444444444,\"#bd3786\"],[0.5555555555555556,\"#d8576b\"],[0.6666666666666666,\"#ed7953\"],[0.7777777777777778,\"#fb9f3a\"],[0.8888888888888888,\"#fdca26\"],[1.0,\"#f0f921\"]],\"sequentialminus\":[[0.0,\"#0d0887\"],[0.1111111111111111,\"#46039f\"],[0.2222222222222222,\"#7201a8\"],[0.3333333333333333,\"#9c179e\"],[0.4444444444444444,\"#bd3786\"],[0.5555555555555556,\"#d8576b\"],[0.6666666666666666,\"#ed7953\"],[0.7777777777777778,\"#fb9f3a\"],[0.8888888888888888,\"#fdca26\"],[1.0,\"#f0f921\"]],\"diverging\":[[0,\"#8e0152\"],[0.1,\"#c51b7d\"],[0.2,\"#de77ae\"],[0.3,\"#f1b6da\"],[0.4,\"#fde0ef\"],[0.5,\"#f7f7f7\"],[0.6,\"#e6f5d0\"],[0.7,\"#b8e186\"],[0.8,\"#7fbc41\"],[0.9,\"#4d9221\"],[1,\"#276419\"]]},\"xaxis\":{\"gridcolor\":\"white\",\"linecolor\":\"white\",\"ticks\":\"\",\"title\":{\"standoff\":15},\"zerolinecolor\":\"white\",\"automargin\":true,\"zerolinewidth\":2},\"yaxis\":{\"gridcolor\":\"white\",\"linecolor\":\"white\",\"ticks\":\"\",\"title\":{\"standoff\":15},\"zerolinecolor\":\"white\",\"automargin\":true,\"zerolinewidth\":2},\"scene\":{\"xaxis\":{\"backgroundcolor\":\"#E5ECF6\",\"gridcolor\":\"white\",\"linecolor\":\"white\",\"showbackground\":true,\"ticks\":\"\",\"zerolinecolor\":\"white\",\"gridwidth\":2},\"yaxis\":{\"backgroundcolor\":\"#E5ECF6\",\"gridcolor\":\"white\",\"linecolor\":\"white\",\"showbackground\":true,\"ticks\":\"\",\"zerolinecolor\":\"white\",\"gridwidth\":2},\"zaxis\":{\"backgroundcolor\":\"#E5ECF6\",\"gridcolor\":\"white\",\"linecolor\":\"white\",\"showbackground\":true,\"ticks\":\"\",\"zerolinecolor\":\"white\",\"gridwidth\":2}},\"shapedefaults\":{\"line\":{\"color\":\"#2a3f5f\"}},\"annotationdefaults\":{\"arrowcolor\":\"#2a3f5f\",\"arrowhead\":0,\"arrowwidth\":1},\"geo\":{\"bgcolor\":\"white\",\"landcolor\":\"#E5ECF6\",\"subunitcolor\":\"white\",\"showland\":true,\"showlakes\":true,\"lakecolor\":\"white\"},\"title\":{\"x\":0.05},\"mapbox\":{\"style\":\"light\"}}},\"xaxis\":{\"anchor\":\"y\",\"domain\":[0.0,1.0],\"title\":{\"text\":\"Release Year\",\"font\":{\"size\":18}},\"showgrid\":true},\"yaxis\":{\"anchor\":\"x\",\"domain\":[0.0,1.0],\"title\":{\"text\":\"Count\",\"font\":{\"size\":18}},\"showgrid\":true},\"legend\":{\"tracegroupgap\":0},\"title\":{\"text\":\"Distribution of Release Years of Netflix Shows\",\"x\":0.5,\"y\":0.95,\"xanchor\":\"center\",\"yanchor\":\"top\"},\"barmode\":\"relative\",\"height\":600,\"width\":800,\"showlegend\":false},                        {\"responsive\": true}                    ).then(function(){\n",
              "                            \n",
              "var gd = document.getElementById('32ff70d6-06b3-4568-a9f4-594e17b1ca64');\n",
              "var x = new MutationObserver(function (mutations, observer) {{\n",
              "        var display = window.getComputedStyle(gd).display;\n",
              "        if (!display || display === 'none') {{\n",
              "            console.log([gd, 'removed!']);\n",
              "            Plotly.purge(gd);\n",
              "            observer.disconnect();\n",
              "        }}\n",
              "}});\n",
              "\n",
              "// Listen for the removal of the full notebook cells\n",
              "var notebookContainer = gd.closest('#notebook-container');\n",
              "if (notebookContainer) {{\n",
              "    x.observe(notebookContainer, {childList: true});\n",
              "}}\n",
              "\n",
              "// Listen for the clearing of the current output cell\n",
              "var outputEl = gd.closest('.output');\n",
              "if (outputEl) {{\n",
              "    x.observe(outputEl, {childList: true});\n",
              "}}\n",
              "\n",
              "                        })                };                            </script>        </div>\n",
              "</body>\n",
              "</html>"
            ]
          },
          "metadata": {}
        }
      ]
    },
    {
      "cell_type": "markdown",
      "source": [
        "##### 1. Why did you pick the specific chart?"
      ],
      "metadata": {
        "id": "t6dVpIINYklI"
      }
    },
    {
      "cell_type": "markdown",
      "source": [
        "> A histplot was chosen to show how many Netflix shows were released each year. It helps easily see trends, peaks, and gaps in the release history over the years, giving a clear picture of Netflix's content distribution."
      ],
      "metadata": {
        "id": "5aaW0BYyYklI"
      }
    },
    {
      "cell_type": "markdown",
      "source": [
        "##### 2. What is/are the insight(s) found from the chart?"
      ],
      "metadata": {
        "id": "ijmpgYnKYklI"
      }
    },
    {
      "cell_type": "markdown",
      "source": [
        "> * The chart highlights a spike in Netflix content production in 2015-2019, showcasing a recent emphasis on new releases.\n",
        "> * The distribution of content releases over time can reveal growth trends in Netflix's library. The chart shows an increasing trend in content releases over the years, it suggests that Netflix has been expanding its content library consistently."
      ],
      "metadata": {
        "id": "PSx9atu2YklI"
      }
    },
    {
      "cell_type": "markdown",
      "source": [
        "##### 3. Will the gained insights help creating a positive business impact?\n",
        "Are there any insights that lead to negative growth? Justify with specific reason."
      ],
      "metadata": {
        "id": "-JiQyfWJYklI"
      }
    },
    {
      "cell_type": "markdown",
      "source": [
        "> the histogram of Netflix shows' release years can contribute to a positive business impact. Knowing when Netflix shows were released helps Netflix plan better. They can focus on the popular years, offer a variety of shows, and make decisions that match what viewers like. This can make users happier and more engaged with Netflix."
      ],
      "metadata": {
        "id": "BcBbebzrYklV"
      }
    },
    {
      "cell_type": "markdown",
      "source": [
        "#### Chart - 3"
      ],
      "metadata": {
        "id": "EM7whBJCYoAo"
      }
    },
    {
      "cell_type": "code",
      "source": [
        "\n",
        "# Creating a pie chart with Plotly\n",
        "fig = px.pie(new_df['country'].value_counts().head(),\n",
        "             labels=new_df['country'].value_counts().head().index,\n",
        "             values=new_df['country'].value_counts().head().values,\n",
        "             title='Top 5 Countries in Netflix Shows',\n",
        "             names=new_df['country'].value_counts().head().index,\n",
        "             color_discrete_sequence=px.colors.qualitative.Set1,width=800, height=600)\n",
        "\n",
        "# Adding interactivity to the chart\n",
        "fig.update_layout(title=dict( x=0.5, y=0.95, xanchor='center', yanchor='top'))\n",
        "fig.update_traces(textposition='inside', textinfo='percent+label')\n",
        "fig.update_layout(legend_title='Country')\n",
        "\n",
        "# Displaying the plot\n",
        "fig.show()"
      ],
      "metadata": {
        "id": "t6GMdE67YoAp",
        "colab": {
          "base_uri": "https://localhost:8080/",
          "height": 706
        },
        "outputId": "33c2a6a1-803f-4837-a13b-da35c2716cf2"
      },
      "execution_count": 171,
      "outputs": [
        {
          "output_type": "stream",
          "name": "stderr",
          "text": [
            "/usr/local/lib/python3.10/dist-packages/plotly/express/_core.py:137: FutureWarning:\n",
            "\n",
            "Support for multi-dimensional indexing (e.g. `obj[:, None]`) is deprecated and will be removed in a future version.  Convert to a numpy array before indexing instead.\n",
            "\n"
          ]
        },
        {
          "output_type": "display_data",
          "data": {
            "text/html": [
              "<html>\n",
              "<head><meta charset=\"utf-8\" /></head>\n",
              "<body>\n",
              "    <div>            <script src=\"https://cdnjs.cloudflare.com/ajax/libs/mathjax/2.7.5/MathJax.js?config=TeX-AMS-MML_SVG\"></script><script type=\"text/javascript\">if (window.MathJax && window.MathJax.Hub && window.MathJax.Hub.Config) {window.MathJax.Hub.Config({SVG: {font: \"STIX-Web\"}});}</script>                <script type=\"text/javascript\">window.PlotlyConfig = {MathJaxConfig: 'local'};</script>\n",
              "        <script charset=\"utf-8\" src=\"https://cdn.plot.ly/plotly-2.24.1.min.js\"></script>                <div id=\"2d0165c4-8a10-48df-8228-ef884ed0f48f\" class=\"plotly-graph-div\" style=\"height:600px; width:800px;\"></div>            <script type=\"text/javascript\">                                    window.PLOTLYENV=window.PLOTLYENV || {};                                    if (document.getElementById(\"2d0165c4-8a10-48df-8228-ef884ed0f48f\")) {                    Plotly.newPlot(                        \"2d0165c4-8a10-48df-8228-ef884ed0f48f\",                        [{\"domain\":{\"x\":[0.0,1.0],\"y\":[0.0,1.0]},\"hovertemplate\":\"label=%{label}\\u003cbr\\u003evalue=%{value}\\u003cextra\\u003e\\u003c\\u002fextra\\u003e\",\"labels\":[\"United States\",\"India\",\"Unknown\",\"United Kingdom\",\"Japan\"],\"legendgroup\":\"\",\"name\":\"\",\"showlegend\":true,\"values\":[2549,923,506,396,225],\"type\":\"pie\",\"textinfo\":\"percent+label\",\"textposition\":\"inside\"}],                        {\"template\":{\"data\":{\"histogram2dcontour\":[{\"type\":\"histogram2dcontour\",\"colorbar\":{\"outlinewidth\":0,\"ticks\":\"\"},\"colorscale\":[[0.0,\"#0d0887\"],[0.1111111111111111,\"#46039f\"],[0.2222222222222222,\"#7201a8\"],[0.3333333333333333,\"#9c179e\"],[0.4444444444444444,\"#bd3786\"],[0.5555555555555556,\"#d8576b\"],[0.6666666666666666,\"#ed7953\"],[0.7777777777777778,\"#fb9f3a\"],[0.8888888888888888,\"#fdca26\"],[1.0,\"#f0f921\"]]}],\"choropleth\":[{\"type\":\"choropleth\",\"colorbar\":{\"outlinewidth\":0,\"ticks\":\"\"}}],\"histogram2d\":[{\"type\":\"histogram2d\",\"colorbar\":{\"outlinewidth\":0,\"ticks\":\"\"},\"colorscale\":[[0.0,\"#0d0887\"],[0.1111111111111111,\"#46039f\"],[0.2222222222222222,\"#7201a8\"],[0.3333333333333333,\"#9c179e\"],[0.4444444444444444,\"#bd3786\"],[0.5555555555555556,\"#d8576b\"],[0.6666666666666666,\"#ed7953\"],[0.7777777777777778,\"#fb9f3a\"],[0.8888888888888888,\"#fdca26\"],[1.0,\"#f0f921\"]]}],\"heatmap\":[{\"type\":\"heatmap\",\"colorbar\":{\"outlinewidth\":0,\"ticks\":\"\"},\"colorscale\":[[0.0,\"#0d0887\"],[0.1111111111111111,\"#46039f\"],[0.2222222222222222,\"#7201a8\"],[0.3333333333333333,\"#9c179e\"],[0.4444444444444444,\"#bd3786\"],[0.5555555555555556,\"#d8576b\"],[0.6666666666666666,\"#ed7953\"],[0.7777777777777778,\"#fb9f3a\"],[0.8888888888888888,\"#fdca26\"],[1.0,\"#f0f921\"]]}],\"heatmapgl\":[{\"type\":\"heatmapgl\",\"colorbar\":{\"outlinewidth\":0,\"ticks\":\"\"},\"colorscale\":[[0.0,\"#0d0887\"],[0.1111111111111111,\"#46039f\"],[0.2222222222222222,\"#7201a8\"],[0.3333333333333333,\"#9c179e\"],[0.4444444444444444,\"#bd3786\"],[0.5555555555555556,\"#d8576b\"],[0.6666666666666666,\"#ed7953\"],[0.7777777777777778,\"#fb9f3a\"],[0.8888888888888888,\"#fdca26\"],[1.0,\"#f0f921\"]]}],\"contourcarpet\":[{\"type\":\"contourcarpet\",\"colorbar\":{\"outlinewidth\":0,\"ticks\":\"\"}}],\"contour\":[{\"type\":\"contour\",\"colorbar\":{\"outlinewidth\":0,\"ticks\":\"\"},\"colorscale\":[[0.0,\"#0d0887\"],[0.1111111111111111,\"#46039f\"],[0.2222222222222222,\"#7201a8\"],[0.3333333333333333,\"#9c179e\"],[0.4444444444444444,\"#bd3786\"],[0.5555555555555556,\"#d8576b\"],[0.6666666666666666,\"#ed7953\"],[0.7777777777777778,\"#fb9f3a\"],[0.8888888888888888,\"#fdca26\"],[1.0,\"#f0f921\"]]}],\"surface\":[{\"type\":\"surface\",\"colorbar\":{\"outlinewidth\":0,\"ticks\":\"\"},\"colorscale\":[[0.0,\"#0d0887\"],[0.1111111111111111,\"#46039f\"],[0.2222222222222222,\"#7201a8\"],[0.3333333333333333,\"#9c179e\"],[0.4444444444444444,\"#bd3786\"],[0.5555555555555556,\"#d8576b\"],[0.6666666666666666,\"#ed7953\"],[0.7777777777777778,\"#fb9f3a\"],[0.8888888888888888,\"#fdca26\"],[1.0,\"#f0f921\"]]}],\"mesh3d\":[{\"type\":\"mesh3d\",\"colorbar\":{\"outlinewidth\":0,\"ticks\":\"\"}}],\"scatter\":[{\"fillpattern\":{\"fillmode\":\"overlay\",\"size\":10,\"solidity\":0.2},\"type\":\"scatter\"}],\"parcoords\":[{\"type\":\"parcoords\",\"line\":{\"colorbar\":{\"outlinewidth\":0,\"ticks\":\"\"}}}],\"scatterpolargl\":[{\"type\":\"scatterpolargl\",\"marker\":{\"colorbar\":{\"outlinewidth\":0,\"ticks\":\"\"}}}],\"bar\":[{\"error_x\":{\"color\":\"#2a3f5f\"},\"error_y\":{\"color\":\"#2a3f5f\"},\"marker\":{\"line\":{\"color\":\"#E5ECF6\",\"width\":0.5},\"pattern\":{\"fillmode\":\"overlay\",\"size\":10,\"solidity\":0.2}},\"type\":\"bar\"}],\"scattergeo\":[{\"type\":\"scattergeo\",\"marker\":{\"colorbar\":{\"outlinewidth\":0,\"ticks\":\"\"}}}],\"scatterpolar\":[{\"type\":\"scatterpolar\",\"marker\":{\"colorbar\":{\"outlinewidth\":0,\"ticks\":\"\"}}}],\"histogram\":[{\"marker\":{\"pattern\":{\"fillmode\":\"overlay\",\"size\":10,\"solidity\":0.2}},\"type\":\"histogram\"}],\"scattergl\":[{\"type\":\"scattergl\",\"marker\":{\"colorbar\":{\"outlinewidth\":0,\"ticks\":\"\"}}}],\"scatter3d\":[{\"type\":\"scatter3d\",\"line\":{\"colorbar\":{\"outlinewidth\":0,\"ticks\":\"\"}},\"marker\":{\"colorbar\":{\"outlinewidth\":0,\"ticks\":\"\"}}}],\"scattermapbox\":[{\"type\":\"scattermapbox\",\"marker\":{\"colorbar\":{\"outlinewidth\":0,\"ticks\":\"\"}}}],\"scatterternary\":[{\"type\":\"scatterternary\",\"marker\":{\"colorbar\":{\"outlinewidth\":0,\"ticks\":\"\"}}}],\"scattercarpet\":[{\"type\":\"scattercarpet\",\"marker\":{\"colorbar\":{\"outlinewidth\":0,\"ticks\":\"\"}}}],\"carpet\":[{\"aaxis\":{\"endlinecolor\":\"#2a3f5f\",\"gridcolor\":\"white\",\"linecolor\":\"white\",\"minorgridcolor\":\"white\",\"startlinecolor\":\"#2a3f5f\"},\"baxis\":{\"endlinecolor\":\"#2a3f5f\",\"gridcolor\":\"white\",\"linecolor\":\"white\",\"minorgridcolor\":\"white\",\"startlinecolor\":\"#2a3f5f\"},\"type\":\"carpet\"}],\"table\":[{\"cells\":{\"fill\":{\"color\":\"#EBF0F8\"},\"line\":{\"color\":\"white\"}},\"header\":{\"fill\":{\"color\":\"#C8D4E3\"},\"line\":{\"color\":\"white\"}},\"type\":\"table\"}],\"barpolar\":[{\"marker\":{\"line\":{\"color\":\"#E5ECF6\",\"width\":0.5},\"pattern\":{\"fillmode\":\"overlay\",\"size\":10,\"solidity\":0.2}},\"type\":\"barpolar\"}],\"pie\":[{\"automargin\":true,\"type\":\"pie\"}]},\"layout\":{\"autotypenumbers\":\"strict\",\"colorway\":[\"#636efa\",\"#EF553B\",\"#00cc96\",\"#ab63fa\",\"#FFA15A\",\"#19d3f3\",\"#FF6692\",\"#B6E880\",\"#FF97FF\",\"#FECB52\"],\"font\":{\"color\":\"#2a3f5f\"},\"hovermode\":\"closest\",\"hoverlabel\":{\"align\":\"left\"},\"paper_bgcolor\":\"white\",\"plot_bgcolor\":\"#E5ECF6\",\"polar\":{\"bgcolor\":\"#E5ECF6\",\"angularaxis\":{\"gridcolor\":\"white\",\"linecolor\":\"white\",\"ticks\":\"\"},\"radialaxis\":{\"gridcolor\":\"white\",\"linecolor\":\"white\",\"ticks\":\"\"}},\"ternary\":{\"bgcolor\":\"#E5ECF6\",\"aaxis\":{\"gridcolor\":\"white\",\"linecolor\":\"white\",\"ticks\":\"\"},\"baxis\":{\"gridcolor\":\"white\",\"linecolor\":\"white\",\"ticks\":\"\"},\"caxis\":{\"gridcolor\":\"white\",\"linecolor\":\"white\",\"ticks\":\"\"}},\"coloraxis\":{\"colorbar\":{\"outlinewidth\":0,\"ticks\":\"\"}},\"colorscale\":{\"sequential\":[[0.0,\"#0d0887\"],[0.1111111111111111,\"#46039f\"],[0.2222222222222222,\"#7201a8\"],[0.3333333333333333,\"#9c179e\"],[0.4444444444444444,\"#bd3786\"],[0.5555555555555556,\"#d8576b\"],[0.6666666666666666,\"#ed7953\"],[0.7777777777777778,\"#fb9f3a\"],[0.8888888888888888,\"#fdca26\"],[1.0,\"#f0f921\"]],\"sequentialminus\":[[0.0,\"#0d0887\"],[0.1111111111111111,\"#46039f\"],[0.2222222222222222,\"#7201a8\"],[0.3333333333333333,\"#9c179e\"],[0.4444444444444444,\"#bd3786\"],[0.5555555555555556,\"#d8576b\"],[0.6666666666666666,\"#ed7953\"],[0.7777777777777778,\"#fb9f3a\"],[0.8888888888888888,\"#fdca26\"],[1.0,\"#f0f921\"]],\"diverging\":[[0,\"#8e0152\"],[0.1,\"#c51b7d\"],[0.2,\"#de77ae\"],[0.3,\"#f1b6da\"],[0.4,\"#fde0ef\"],[0.5,\"#f7f7f7\"],[0.6,\"#e6f5d0\"],[0.7,\"#b8e186\"],[0.8,\"#7fbc41\"],[0.9,\"#4d9221\"],[1,\"#276419\"]]},\"xaxis\":{\"gridcolor\":\"white\",\"linecolor\":\"white\",\"ticks\":\"\",\"title\":{\"standoff\":15},\"zerolinecolor\":\"white\",\"automargin\":true,\"zerolinewidth\":2},\"yaxis\":{\"gridcolor\":\"white\",\"linecolor\":\"white\",\"ticks\":\"\",\"title\":{\"standoff\":15},\"zerolinecolor\":\"white\",\"automargin\":true,\"zerolinewidth\":2},\"scene\":{\"xaxis\":{\"backgroundcolor\":\"#E5ECF6\",\"gridcolor\":\"white\",\"linecolor\":\"white\",\"showbackground\":true,\"ticks\":\"\",\"zerolinecolor\":\"white\",\"gridwidth\":2},\"yaxis\":{\"backgroundcolor\":\"#E5ECF6\",\"gridcolor\":\"white\",\"linecolor\":\"white\",\"showbackground\":true,\"ticks\":\"\",\"zerolinecolor\":\"white\",\"gridwidth\":2},\"zaxis\":{\"backgroundcolor\":\"#E5ECF6\",\"gridcolor\":\"white\",\"linecolor\":\"white\",\"showbackground\":true,\"ticks\":\"\",\"zerolinecolor\":\"white\",\"gridwidth\":2}},\"shapedefaults\":{\"line\":{\"color\":\"#2a3f5f\"}},\"annotationdefaults\":{\"arrowcolor\":\"#2a3f5f\",\"arrowhead\":0,\"arrowwidth\":1},\"geo\":{\"bgcolor\":\"white\",\"landcolor\":\"#E5ECF6\",\"subunitcolor\":\"white\",\"showland\":true,\"showlakes\":true,\"lakecolor\":\"white\"},\"title\":{\"x\":0.05},\"mapbox\":{\"style\":\"light\"}}},\"legend\":{\"tracegroupgap\":0,\"title\":{\"text\":\"Country\"}},\"title\":{\"text\":\"Top 5 Countries in Netflix Shows\",\"x\":0.5,\"y\":0.95,\"xanchor\":\"center\",\"yanchor\":\"top\"},\"piecolorway\":[\"rgb(228,26,28)\",\"rgb(55,126,184)\",\"rgb(77,175,74)\",\"rgb(152,78,163)\",\"rgb(255,127,0)\",\"rgb(255,255,51)\",\"rgb(166,86,40)\",\"rgb(247,129,191)\",\"rgb(153,153,153)\"],\"height\":600,\"width\":800},                        {\"responsive\": true}                    ).then(function(){\n",
              "                            \n",
              "var gd = document.getElementById('2d0165c4-8a10-48df-8228-ef884ed0f48f');\n",
              "var x = new MutationObserver(function (mutations, observer) {{\n",
              "        var display = window.getComputedStyle(gd).display;\n",
              "        if (!display || display === 'none') {{\n",
              "            console.log([gd, 'removed!']);\n",
              "            Plotly.purge(gd);\n",
              "            observer.disconnect();\n",
              "        }}\n",
              "}});\n",
              "\n",
              "// Listen for the removal of the full notebook cells\n",
              "var notebookContainer = gd.closest('#notebook-container');\n",
              "if (notebookContainer) {{\n",
              "    x.observe(notebookContainer, {childList: true});\n",
              "}}\n",
              "\n",
              "// Listen for the clearing of the current output cell\n",
              "var outputEl = gd.closest('.output');\n",
              "if (outputEl) {{\n",
              "    x.observe(outputEl, {childList: true});\n",
              "}}\n",
              "\n",
              "                        })                };                            </script>        </div>\n",
              "</body>\n",
              "</html>"
            ]
          },
          "metadata": {}
        }
      ]
    },
    {
      "cell_type": "markdown",
      "source": [
        "##### 1. Why did you pick the specific chart?"
      ],
      "metadata": {
        "id": "fge-S5ZAYoAp"
      }
    },
    {
      "cell_type": "markdown",
      "source": [
        "> This interactive pie chart allows to explore the distribution of shows among the top 5 countries with the highest number of shows. and can hover over the slices to see the country name, count, and percentage, providing a clear visualization of the relative proportions of shows in each country."
      ],
      "metadata": {
        "id": "5dBItgRVYoAp"
      }
    },
    {
      "cell_type": "markdown",
      "source": [
        "##### 2. What is/are the insight(s) found from the chart?"
      ],
      "metadata": {
        "id": "85gYPyotYoAp"
      }
    },
    {
      "cell_type": "markdown",
      "source": [
        "> * The largest slice indicates that the United States has the highest number of shows, highlighting its significant contribution to Netflix's content library.\n",
        "> * Understanding the geographical distribution helps Netflix strategize content acquisition and production efforts to cater to diverse viewer preferences across different regions."
      ],
      "metadata": {
        "id": "4jstXR6OYoAp"
      }
    },
    {
      "cell_type": "markdown",
      "source": [
        "##### 3. Will the gained insights help creating a positive business impact?\n",
        "Are there any insights that lead to negative growth? Justify with specific reason."
      ],
      "metadata": {
        "id": "RoGjAbkUYoAp"
      }
    },
    {
      "cell_type": "markdown",
      "source": [
        "> * **Strategic Decision-making**: Insights on dominant countries guide content strategies, enhancing viewer satisfaction and potential for increased viewership.\n",
        "> * **Competitor Analysis**: Assessing market share relative to other countries aids in understanding the competitive landscape, supporting strategic positioning.\n"
      ],
      "metadata": {
        "id": "zfJ8IqMcYoAp"
      }
    },
    {
      "cell_type": "markdown",
      "source": [
        "#### Chart - 4 Top 10 countries with the most Netflix shows"
      ],
      "metadata": {
        "id": "4Of9eVA-YrdM"
      }
    },
    {
      "cell_type": "code",
      "source": [
        "\n",
        "# Create a DataFrame with the top 10 countries\n",
        "top_countries = df['country'].value_counts().head(10).index\n",
        "\n",
        "# Filter data for the top 10 countries\n",
        "top_countries_data = df[df['country'].isin(top_countries)]\n",
        "\n",
        "# Create a bar plot\n",
        "plt.figure(figsize=(12, 8))\n",
        "sns.countplot(x='country', hue='type', order=top_countries, data=top_countries_data, palette='magma')\n",
        "\n",
        "# Add count annotations on top of the bars\n",
        "for p in plt.gca().patches:\n",
        "    plt.gca().annotate(f'{int(p.get_height())}',\n",
        "                 (p.get_x() + p.get_width() / 2., p.get_height()),\n",
        "                 ha='center', va='center', xytext=(0, 10),\n",
        "                 textcoords='offset points', fontsize=10, color='black')\n",
        "\n",
        "# Adding a title to the plot\n",
        "plt.title('Top 10 Countries with Type Count on Netflix')\n",
        "# Adding labels for the x and y axes\n",
        "\n",
        "plt.xlabel('Count', fontsize=12, color='black')\n",
        "plt.ylabel('Country', fontsize=12, color='black')\n",
        "plt.legend(title='Type', loc='upper right')\n",
        "\n",
        "# Displaying the plot\n",
        "plt.show()\n"
      ],
      "metadata": {
        "colab": {
          "base_uri": "https://localhost:8080/",
          "height": 722
        },
        "id": "BT3nHhDD09TB",
        "outputId": "2288e616-10b6-4e2b-b656-9b8dd48aa696"
      },
      "execution_count": 172,
      "outputs": [
        {
          "output_type": "display_data",
          "data": {
            "text/plain": [
              "<Figure size 1200x800 with 1 Axes>"
            ],
            "image/png": "[encoded data removed]"
          },
          "metadata": {}
        }
      ]
    },
    {
      "cell_type": "markdown",
      "source": [
        "##### 1. Why did you pick the specific chart?"
      ],
      "metadata": {
        "id": "iky9q4vBYrdO"
      }
    },
    {
      "cell_type": "markdown",
      "source": [
        "> The countplot  is chosen for this task because it effectively visualizes the frequency count of each category (countries) on the x-axis and the count on the y-axis. This makes it easy to compare the distribution of movie and TV show counts across different countries in a clear and concise manner."
      ],
      "metadata": {
        "id": "aJRCwT6DYrdO"
      }
    },
    {
      "cell_type": "markdown",
      "source": [
        "##### 2. What is/are the insight(s) found from the chart?"
      ],
      "metadata": {
        "id": "F6T5p64dYrdO"
      }
    },
    {
      "cell_type": "markdown",
      "source": [
        "> * The **United States** is a major contributor to Netflix, leading in both movies (1850) and TV shows (705), underscoring its significant influence on the platform's content.\n",
        "> * **India** stands out with a substantial movie count (852), but there's room for growth in TV shows (71), indicating a strong presence in movies.\n",
        "> * The **United Kingdom** maintains a balanced content output with comparable counts in both movies (193) and TV shows (204), reflecting a diverse content landscape."
      ],
      "metadata": {
        "id": "Xx8WAJvtYrdO"
      }
    },
    {
      "cell_type": "markdown",
      "source": [
        "##### 3. Will the gained insights help creating a positive business impact?\n",
        "Are there any insights that lead to negative growth? Justify with specific reason."
      ],
      "metadata": {
        "id": "y-Ehk30pYrdP"
      }
    },
    {
      "cell_type": "markdown",
      "source": [
        "> * **Targeted Investment**: Insights guide strategic content investments, tailoring production to the influential U.S. market and recognizing growth potential in India.\n",
        "> * **Market expansion**: Identifying countries with a higher count of movies and TV shows can provide insights into potential markets for expansion. Netflix can prioritize expanding its presence in countries where there is already a substantial demand for their content."
      ],
      "metadata": {
        "id": "jLNxxz7MYrdP"
      }
    },
    {
      "cell_type": "code",
      "source": [
        "new_df['duration'].value_counts()"
      ],
      "metadata": {
        "colab": {
          "base_uri": "https://localhost:8080/"
        },
        "id": "ibQbiLjJMpcV",
        "outputId": "f296ba06-777d-4dfc-f230-0ff7d3174466"
      },
      "execution_count": 234,
      "outputs": [
        {
          "output_type": "execute_result",
          "data": {
            "text/plain": [
              "1 Season     1608\n",
              "2 Seasons     378\n",
              "3 Seasons     183\n",
              "90 min        136\n",
              "93 min        131\n",
              "             ... \n",
              "9 min           1\n",
              "182 min         1\n",
              "224 min         1\n",
              "233 min         1\n",
              "191 min         1\n",
              "Name: duration, Length: 216, dtype: int64"
            ]
          },
          "metadata": {},
          "execution_count": 234
        }
      ]
    },
    {
      "cell_type": "markdown",
      "source": [
        "#### Chart - 5"
      ],
      "metadata": {
        "id": "bamQiAODYuh1"
      }
    },
    {
      "cell_type": "code",
      "source": [
        "# Chart - 5 visualization code"
      ],
      "metadata": {
        "id": "TIJwrbroYuh3"
      },
      "execution_count": 173,
      "outputs": []
    },
    {
      "cell_type": "markdown",
      "source": [
        "##### 1. Why did you pick the specific chart?"
      ],
      "metadata": {
        "id": "QHF8YVU7Yuh3"
      }
    },
    {
      "cell_type": "markdown",
      "source": [
        "Answer Here."
      ],
      "metadata": {
        "id": "dcxuIMRPYuh3"
      }
    },
    {
      "cell_type": "markdown",
      "source": [
        "##### 2. What is/are the insight(s) found from the chart?"
      ],
      "metadata": {
        "id": "GwzvFGzlYuh3"
      }
    },
    {
      "cell_type": "markdown",
      "source": [
        "Answer Here"
      ],
      "metadata": {
        "id": "uyqkiB8YYuh3"
      }
    },
    {
      "cell_type": "markdown",
      "source": [
        "##### 3. Will the gained insights help creating a positive business impact?\n",
        "Are there any insights that lead to negative growth? Justify with specific reason."
      ],
      "metadata": {
        "id": "qYpmQ266Yuh3"
      }
    },
    {
      "cell_type": "markdown",
      "source": [
        "Answer Here"
      ],
      "metadata": {
        "id": "_WtzZ_hCYuh4"
      }
    },
    {
      "cell_type": "markdown",
      "source": [
        "#### Chart - 6"
      ],
      "metadata": {
        "id": "OH-pJp9IphqM"
      }
    },
    {
      "cell_type": "code",
      "source": [
        "# Chart - 6 visualization code"
      ],
      "metadata": {
        "id": "kuRf4wtuphqN"
      },
      "execution_count": 174,
      "outputs": []
    },
    {
      "cell_type": "markdown",
      "source": [
        "##### 1. Why did you pick the specific chart?"
      ],
      "metadata": {
        "id": "bbFf2-_FphqN"
      }
    },
    {
      "cell_type": "markdown",
      "source": [
        "Answer Here."
      ],
      "metadata": {
        "id": "loh7H2nzphqN"
      }
    },
    {
      "cell_type": "markdown",
      "source": [
        "##### 2. What is/are the insight(s) found from the chart?"
      ],
      "metadata": {
        "id": "_ouA3fa0phqN"
      }
    },
    {
      "cell_type": "markdown",
      "source": [
        "Answer Here"
      ],
      "metadata": {
        "id": "VECbqPI7phqN"
      }
    },
    {
      "cell_type": "markdown",
      "source": [
        "##### 3. Will the gained insights help creating a positive business impact?\n",
        "Are there any insights that lead to negative growth? Justify with specific reason."
      ],
      "metadata": {
        "id": "Seke61FWphqN"
      }
    },
    {
      "cell_type": "markdown",
      "source": [
        "Answer Here"
      ],
      "metadata": {
        "id": "DW4_bGpfphqN"
      }
    },
    {
      "cell_type": "markdown",
      "source": [
        "#### Chart - 7"
      ],
      "metadata": {
        "id": "PIIx-8_IphqN"
      }
    },
    {
      "cell_type": "code",
      "source": [
        "# Chart - 7 visualization code"
      ],
      "metadata": {
        "id": "lqAIGUfyphqO"
      },
      "execution_count": 175,
      "outputs": []
    },
    {
      "cell_type": "markdown",
      "source": [
        "##### 1. Why did you pick the specific chart?"
      ],
      "metadata": {
        "id": "t27r6nlMphqO"
      }
    },
    {
      "cell_type": "markdown",
      "source": [
        "Answer Here."
      ],
      "metadata": {
        "id": "iv6ro40sphqO"
      }
    },
    {
      "cell_type": "markdown",
      "source": [
        "##### 2. What is/are the insight(s) found from the chart?"
      ],
      "metadata": {
        "id": "r2jJGEOYphqO"
      }
    },
    {
      "cell_type": "markdown",
      "source": [
        "Answer Here"
      ],
      "metadata": {
        "id": "Po6ZPi4hphqO"
      }
    },
    {
      "cell_type": "markdown",
      "source": [
        "##### 3. Will the gained insights help creating a positive business impact?\n",
        "Are there any insights that lead to negative growth? Justify with specific reason."
      ],
      "metadata": {
        "id": "b0JNsNcRphqO"
      }
    },
    {
      "cell_type": "markdown",
      "source": [
        "Answer Here"
      ],
      "metadata": {
        "id": "xvSq8iUTphqO"
      }
    },
    {
      "cell_type": "markdown",
      "source": [
        "#### Chart - 8"
      ],
      "metadata": {
        "id": "BZR9WyysphqO"
      }
    },
    {
      "cell_type": "code",
      "source": [
        "# Chart - 8 visualization code"
      ],
      "metadata": {
        "id": "TdPTWpAVphqO"
      },
      "execution_count": 176,
      "outputs": []
    },
    {
      "cell_type": "markdown",
      "source": [
        "##### 1. Why did you pick the specific chart?"
      ],
      "metadata": {
        "id": "jj7wYXLtphqO"
      }
    },
    {
      "cell_type": "markdown",
      "source": [
        "Answer Here."
      ],
      "metadata": {
        "id": "Ob8u6rCTphqO"
      }
    },
    {
      "cell_type": "markdown",
      "source": [
        "##### 2. What is/are the insight(s) found from the chart?"
      ],
      "metadata": {
        "id": "eZrbJ2SmphqO"
      }
    },
    {
      "cell_type": "markdown",
      "source": [
        "Answer Here"
      ],
      "metadata": {
        "id": "mZtgC_hjphqO"
      }
    },
    {
      "cell_type": "markdown",
      "source": [
        "##### 3. Will the gained insights help creating a positive business impact?\n",
        "Are there any insights that lead to negative growth? Justify with specific reason."
      ],
      "metadata": {
        "id": "rFu4xreNphqO"
      }
    },
    {
      "cell_type": "markdown",
      "source": [
        "Answer Here"
      ],
      "metadata": {
        "id": "ey_0qi68phqO"
      }
    },
    {
      "cell_type": "markdown",
      "source": [
        "#### Chart - 9"
      ],
      "metadata": {
        "id": "YJ55k-q6phqO"
      }
    },
    {
      "cell_type": "code",
      "source": [
        "# Chart - 9 visualization code"
      ],
      "metadata": {
        "id": "B2aS4O1ophqO"
      },
      "execution_count": 177,
      "outputs": []
    },
    {
      "cell_type": "markdown",
      "source": [
        "##### 1. Why did you pick the specific chart?"
      ],
      "metadata": {
        "id": "gCFgpxoyphqP"
      }
    },
    {
      "cell_type": "markdown",
      "source": [
        "Answer Here."
      ],
      "metadata": {
        "id": "TVxDimi2phqP"
      }
    },
    {
      "cell_type": "markdown",
      "source": [
        "##### 2. What is/are the insight(s) found from the chart?"
      ],
      "metadata": {
        "id": "OVtJsKN_phqQ"
      }
    },
    {
      "cell_type": "markdown",
      "source": [
        "Answer Here"
      ],
      "metadata": {
        "id": "ngGi97qjphqQ"
      }
    },
    {
      "cell_type": "markdown",
      "source": [
        "##### 3. Will the gained insights help creating a positive business impact?\n",
        "Are there any insights that lead to negative growth? Justify with specific reason."
      ],
      "metadata": {
        "id": "lssrdh5qphqQ"
      }
    },
    {
      "cell_type": "markdown",
      "source": [
        "Answer Here"
      ],
      "metadata": {
        "id": "tBpY5ekJphqQ"
      }
    },
    {
      "cell_type": "markdown",
      "source": [
        "#### Chart - 10"
      ],
      "metadata": {
        "id": "U2RJ9gkRphqQ"
      }
    },
    {
      "cell_type": "code",
      "source": [
        "# Chart - 10 visualization code"
      ],
      "metadata": {
        "id": "GM7a4YP4phqQ"
      },
      "execution_count": 178,
      "outputs": []
    },
    {
      "cell_type": "markdown",
      "source": [
        "##### 1. Why did you pick the specific chart?"
      ],
      "metadata": {
        "id": "1M8mcRywphqQ"
      }
    },
    {
      "cell_type": "markdown",
      "source": [
        "Answer Here."
      ],
      "metadata": {
        "id": "8agQvks0phqQ"
      }
    },
    {
      "cell_type": "markdown",
      "source": [
        "##### 2. What is/are the insight(s) found from the chart?"
      ],
      "metadata": {
        "id": "tgIPom80phqQ"
      }
    },
    {
      "cell_type": "markdown",
      "source": [
        "Answer Here"
      ],
      "metadata": {
        "id": "Qp13pnNzphqQ"
      }
    },
    {
      "cell_type": "markdown",
      "source": [
        "##### 3. Will the gained insights help creating a positive business impact?\n",
        "Are there any insights that lead to negative growth? Justify with specific reason."
      ],
      "metadata": {
        "id": "JMzcOPDDphqR"
      }
    },
    {
      "cell_type": "markdown",
      "source": [
        "Answer Here"
      ],
      "metadata": {
        "id": "R4Ka1PC2phqR"
      }
    },
    {
      "cell_type": "markdown",
      "source": [
        "#### Chart - 11"
      ],
      "metadata": {
        "id": "x-EpHcCOp1ci"
      }
    },
    {
      "cell_type": "code",
      "source": [
        "# Chart - 11 visualization code"
      ],
      "metadata": {
        "id": "mAQTIvtqp1cj"
      },
      "execution_count": 179,
      "outputs": []
    },
    {
      "cell_type": "markdown",
      "source": [
        "##### 1. Why did you pick the specific chart?"
      ],
      "metadata": {
        "id": "X_VqEhTip1ck"
      }
    },
    {
      "cell_type": "markdown",
      "source": [
        "Answer Here."
      ],
      "metadata": {
        "id": "-vsMzt_np1ck"
      }
    },
    {
      "cell_type": "markdown",
      "source": [
        "##### 2. What is/are the insight(s) found from the chart?"
      ],
      "metadata": {
        "id": "8zGJKyg5p1ck"
      }
    },
    {
      "cell_type": "markdown",
      "source": [
        "Answer Here"
      ],
      "metadata": {
        "id": "ZYdMsrqVp1ck"
      }
    },
    {
      "cell_type": "markdown",
      "source": [
        "##### 3. Will the gained insights help creating a positive business impact?\n",
        "Are there any insights that lead to negative growth? Justify with specific reason."
      ],
      "metadata": {
        "id": "PVzmfK_Ep1ck"
      }
    },
    {
      "cell_type": "markdown",
      "source": [
        "Answer Here"
      ],
      "metadata": {
        "id": "druuKYZpp1ck"
      }
    },
    {
      "cell_type": "markdown",
      "source": [
        "#### Chart - 12"
      ],
      "metadata": {
        "id": "n3dbpmDWp1ck"
      }
    },
    {
      "cell_type": "code",
      "source": [
        "# Chart - 12 visualization code"
      ],
      "metadata": {
        "id": "bwevp1tKp1ck"
      },
      "execution_count": 180,
      "outputs": []
    },
    {
      "cell_type": "markdown",
      "source": [
        "##### 1. Why did you pick the specific chart?"
      ],
      "metadata": {
        "id": "ylSl6qgtp1ck"
      }
    },
    {
      "cell_type": "markdown",
      "source": [
        "Answer Here."
      ],
      "metadata": {
        "id": "m2xqNkiQp1ck"
      }
    },
    {
      "cell_type": "markdown",
      "source": [
        "##### 2. What is/are the insight(s) found from the chart?"
      ],
      "metadata": {
        "id": "ZWILFDl5p1ck"
      }
    },
    {
      "cell_type": "markdown",
      "source": [
        "Answer Here"
      ],
      "metadata": {
        "id": "x-lUsV2mp1ck"
      }
    },
    {
      "cell_type": "markdown",
      "source": [
        "##### 3. Will the gained insights help creating a positive business impact?\n",
        "Are there any insights that lead to negative growth? Justify with specific reason."
      ],
      "metadata": {
        "id": "M7G43BXep1ck"
      }
    },
    {
      "cell_type": "markdown",
      "source": [
        "Answer Here"
      ],
      "metadata": {
        "id": "5wwDJXsLp1cl"
      }
    },
    {
      "cell_type": "markdown",
      "source": [
        "#### Chart - 13"
      ],
      "metadata": {
        "id": "Ag9LCva-p1cl"
      }
    },
    {
      "cell_type": "code",
      "source": [
        "# Chart - 13 visualization code"
      ],
      "metadata": {
        "id": "EUfxeq9-p1cl"
      },
      "execution_count": 181,
      "outputs": []
    },
    {
      "cell_type": "markdown",
      "source": [
        "##### 1. Why did you pick the specific chart?"
      ],
      "metadata": {
        "id": "E6MkPsBcp1cl"
      }
    },
    {
      "cell_type": "markdown",
      "source": [
        "Answer Here."
      ],
      "metadata": {
        "id": "V22bRsFWp1cl"
      }
    },
    {
      "cell_type": "markdown",
      "source": [
        "##### 2. What is/are the insight(s) found from the chart?"
      ],
      "metadata": {
        "id": "2cELzS2fp1cl"
      }
    },
    {
      "cell_type": "markdown",
      "source": [
        "Answer Here"
      ],
      "metadata": {
        "id": "ozQPc2_Ip1cl"
      }
    },
    {
      "cell_type": "markdown",
      "source": [
        "##### 3. Will the gained insights help creating a positive business impact?\n",
        "Are there any insights that lead to negative growth? Justify with specific reason."
      ],
      "metadata": {
        "id": "3MPXvC8up1cl"
      }
    },
    {
      "cell_type": "markdown",
      "source": [
        "Answer Here"
      ],
      "metadata": {
        "id": "GL8l1tdLp1cl"
      }
    },
    {
      "cell_type": "markdown",
      "source": [
        "#### Chart - 14 - Correlation Heatmap"
      ],
      "metadata": {
        "id": "NC_X3p0fY2L0"
      }
    },
    {
      "cell_type": "code",
      "source": [
        "# Correlation Heatmap visualization code"
      ],
      "metadata": {
        "id": "xyC9zolEZNRQ"
      },
      "execution_count": 182,
      "outputs": []
    },
    {
      "cell_type": "markdown",
      "source": [
        "##### 1. Why did you pick the specific chart?"
      ],
      "metadata": {
        "id": "UV0SzAkaZNRQ"
      }
    },
    {
      "cell_type": "markdown",
      "source": [
        "Answer Here."
      ],
      "metadata": {
        "id": "DVPuT8LYZNRQ"
      }
    },
    {
      "cell_type": "markdown",
      "source": [
        "##### 2. What is/are the insight(s) found from the chart?"
      ],
      "metadata": {
        "id": "YPEH6qLeZNRQ"
      }
    },
    {
      "cell_type": "markdown",
      "source": [
        "Answer Here"
      ],
      "metadata": {
        "id": "bfSqtnDqZNRR"
      }
    },
    {
      "cell_type": "markdown",
      "source": [
        "#### Chart - 15 - Pair Plot"
      ],
      "metadata": {
        "id": "q29F0dvdveiT"
      }
    },
    {
      "cell_type": "code",
      "source": [
        "# Pair Plot visualization code"
      ],
      "metadata": {
        "id": "o58-TEIhveiU"
      },
      "execution_count": 183,
      "outputs": []
    },
    {
      "cell_type": "markdown",
      "source": [
        "##### 1. Why did you pick the specific chart?"
      ],
      "metadata": {
        "id": "EXh0U9oCveiU"
      }
    },
    {
      "cell_type": "markdown",
      "source": [
        "Answer Here."
      ],
      "metadata": {
        "id": "eMmPjTByveiU"
      }
    },
    {
      "cell_type": "markdown",
      "source": [
        "##### 2. What is/are the insight(s) found from the chart?"
      ],
      "metadata": {
        "id": "22aHeOlLveiV"
      }
    },
    {
      "cell_type": "markdown",
      "source": [
        "Answer Here"
      ],
      "metadata": {
        "id": "uPQ8RGwHveiV"
      }
    },
    {
      "cell_type": "markdown",
      "source": [
        "## ***5. Hypothesis Testing***"
      ],
      "metadata": {
        "id": "g-ATYxFrGrvw"
      }
    },
    {
      "cell_type": "markdown",
      "source": [
        "### Based on your chart experiments, define three hypothetical statements from the dataset. In the next three questions, perform hypothesis testing to obtain final conclusion about the statements through your code and statistical testing."
      ],
      "metadata": {
        "id": "Yfr_Vlr8HBkt"
      }
    },
    {
      "cell_type": "markdown",
      "source": [
        "Answer Here."
      ],
      "metadata": {
        "id": "-7MS06SUHkB-"
      }
    },
    {
      "cell_type": "markdown",
      "source": [
        "### Hypothetical Statement - 1"
      ],
      "metadata": {
        "id": "8yEUt7NnHlrM"
      }
    },
    {
      "cell_type": "markdown",
      "source": [
        "#### 1. State Your research hypothesis as a null hypothesis and alternate hypothesis."
      ],
      "metadata": {
        "id": "tEA2Xm5dHt1r"
      }
    },
    {
      "cell_type": "markdown",
      "source": [
        "Answer Here."
      ],
      "metadata": {
        "id": "HI9ZP0laH0D-"
      }
    },
    {
      "cell_type": "markdown",
      "source": [
        "#### 2. Perform an appropriate statistical test."
      ],
      "metadata": {
        "id": "I79__PHVH19G"
      }
    },
    {
      "cell_type": "code",
      "source": [
        "# Perform Statistical Test to obtain P-Value"
      ],
      "metadata": {
        "id": "oZrfquKtyian"
      },
      "execution_count": 184,
      "outputs": []
    },
    {
      "cell_type": "markdown",
      "source": [
        "##### Which statistical test have you done to obtain P-Value?"
      ],
      "metadata": {
        "id": "Ou-I18pAyIpj"
      }
    },
    {
      "cell_type": "markdown",
      "source": [
        "Answer Here."
      ],
      "metadata": {
        "id": "s2U0kk00ygSB"
      }
    },
    {
      "cell_type": "markdown",
      "source": [
        "##### Why did you choose the specific statistical test?"
      ],
      "metadata": {
        "id": "fF3858GYyt-u"
      }
    },
    {
      "cell_type": "markdown",
      "source": [
        "Answer Here."
      ],
      "metadata": {
        "id": "HO4K0gP5y3B4"
      }
    },
    {
      "cell_type": "markdown",
      "source": [
        "### Hypothetical Statement - 2"
      ],
      "metadata": {
        "id": "4_0_7-oCpUZd"
      }
    },
    {
      "cell_type": "markdown",
      "source": [
        "#### 1. State Your research hypothesis as a null hypothesis and alternate hypothesis."
      ],
      "metadata": {
        "id": "hwyV_J3ipUZe"
      }
    },
    {
      "cell_type": "markdown",
      "source": [
        "Answer Here."
      ],
      "metadata": {
        "id": "FnpLGJ-4pUZe"
      }
    },
    {
      "cell_type": "markdown",
      "source": [
        "#### 2. Perform an appropriate statistical test."
      ],
      "metadata": {
        "id": "3yB-zSqbpUZe"
      }
    },
    {
      "cell_type": "code",
      "source": [
        "# Perform Statistical Test to obtain P-Value"
      ],
      "metadata": {
        "id": "sWxdNTXNpUZe"
      },
      "execution_count": 185,
      "outputs": []
    },
    {
      "cell_type": "markdown",
      "source": [
        "##### Which statistical test have you done to obtain P-Value?"
      ],
      "metadata": {
        "id": "dEUvejAfpUZe"
      }
    },
    {
      "cell_type": "markdown",
      "source": [
        "Answer Here."
      ],
      "metadata": {
        "id": "oLDrPz7HpUZf"
      }
    },
    {
      "cell_type": "markdown",
      "source": [
        "##### Why did you choose the specific statistical test?"
      ],
      "metadata": {
        "id": "Fd15vwWVpUZf"
      }
    },
    {
      "cell_type": "markdown",
      "source": [
        "Answer Here."
      ],
      "metadata": {
        "id": "4xOGYyiBpUZf"
      }
    },
    {
      "cell_type": "markdown",
      "source": [
        "### Hypothetical Statement - 3"
      ],
      "metadata": {
        "id": "bn_IUdTipZyH"
      }
    },
    {
      "cell_type": "markdown",
      "source": [
        "#### 1. State Your research hypothesis as a null hypothesis and alternate hypothesis."
      ],
      "metadata": {
        "id": "49K5P_iCpZyH"
      }
    },
    {
      "cell_type": "markdown",
      "source": [
        "Answer Here."
      ],
      "metadata": {
        "id": "7gWI5rT9pZyH"
      }
    },
    {
      "cell_type": "markdown",
      "source": [
        "#### 2. Perform an appropriate statistical test."
      ],
      "metadata": {
        "id": "Nff-vKELpZyI"
      }
    },
    {
      "cell_type": "code",
      "source": [
        "# Perform Statistical Test to obtain P-Value"
      ],
      "metadata": {
        "id": "s6AnJQjtpZyI"
      },
      "execution_count": 186,
      "outputs": []
    },
    {
      "cell_type": "markdown",
      "source": [
        "##### Which statistical test have you done to obtain P-Value?"
      ],
      "metadata": {
        "id": "kLW572S8pZyI"
      }
    },
    {
      "cell_type": "markdown",
      "source": [
        "Answer Here."
      ],
      "metadata": {
        "id": "ytWJ8v15pZyI"
      }
    },
    {
      "cell_type": "markdown",
      "source": [
        "##### Why did you choose the specific statistical test?"
      ],
      "metadata": {
        "id": "dWbDXHzopZyI"
      }
    },
    {
      "cell_type": "markdown",
      "source": [
        "Answer Here."
      ],
      "metadata": {
        "id": "M99G98V6pZyI"
      }
    },
    {
      "cell_type": "markdown",
      "source": [
        "## ***6. Feature Engineering & Data Pre-processing***"
      ],
      "metadata": {
        "id": "yLjJCtPM0KBk"
      }
    },
    {
      "cell_type": "markdown",
      "source": [
        "### 1. Handling Missing Values"
      ],
      "metadata": {
        "id": "xiyOF9F70UgQ"
      }
    },
    {
      "cell_type": "code",
      "source": [
        "# Handling Missing Values & Missing Value Imputation"
      ],
      "metadata": {
        "id": "iRsAHk1K0fpS"
      },
      "execution_count": 187,
      "outputs": []
    },
    {
      "cell_type": "markdown",
      "source": [
        "#### What all missing value imputation techniques have you used and why did you use those techniques?"
      ],
      "metadata": {
        "id": "7wuGOrhz0itI"
      }
    },
    {
      "cell_type": "markdown",
      "source": [
        "Answer Here."
      ],
      "metadata": {
        "id": "1ixusLtI0pqI"
      }
    },
    {
      "cell_type": "markdown",
      "source": [
        "### 2. Handling Outliers"
      ],
      "metadata": {
        "id": "id1riN9m0vUs"
      }
    },
    {
      "cell_type": "code",
      "source": [
        "# Handling Outliers & Outlier treatments"
      ],
      "metadata": {
        "id": "M6w2CzZf04JK"
      },
      "execution_count": 188,
      "outputs": []
    },
    {
      "cell_type": "markdown",
      "source": [
        "##### What all outlier treatment techniques have you used and why did you use those techniques?"
      ],
      "metadata": {
        "id": "578E2V7j08f6"
      }
    },
    {
      "cell_type": "markdown",
      "source": [
        "Answer Here."
      ],
      "metadata": {
        "id": "uGZz5OrT1HH-"
      }
    },
    {
      "cell_type": "markdown",
      "source": [
        "### 3. Categorical Encoding"
      ],
      "metadata": {
        "id": "89xtkJwZ18nB"
      }
    },
    {
      "cell_type": "code",
      "source": [
        "# Encode your categorical columns"
      ],
      "metadata": {
        "id": "21JmIYMG2hEo"
      },
      "execution_count": 189,
      "outputs": []
    },
    {
      "cell_type": "markdown",
      "source": [
        "#### What all categorical encoding techniques have you used & why did you use those techniques?"
      ],
      "metadata": {
        "id": "67NQN5KX2AMe"
      }
    },
    {
      "cell_type": "markdown",
      "source": [
        "Answer Here."
      ],
      "metadata": {
        "id": "UDaue5h32n_G"
      }
    },
    {
      "cell_type": "markdown",
      "source": [
        "### 4. Textual Data Preprocessing\n",
        "(It's mandatory for textual dataset i.e., NLP, Sentiment Analysis, Text Clustering etc.)"
      ],
      "metadata": {
        "id": "Iwf50b-R2tYG"
      }
    },
    {
      "cell_type": "markdown",
      "source": [
        "#### 1. Expand Contraction"
      ],
      "metadata": {
        "id": "GMQiZwjn3iu7"
      }
    },
    {
      "cell_type": "code",
      "source": [
        "# Expand Contraction"
      ],
      "metadata": {
        "id": "PTouz10C3oNN"
      },
      "execution_count": 190,
      "outputs": []
    },
    {
      "cell_type": "markdown",
      "source": [
        "#### 2. Lower Casing"
      ],
      "metadata": {
        "id": "WVIkgGqN3qsr"
      }
    },
    {
      "cell_type": "code",
      "source": [
        "# Lower Casing"
      ],
      "metadata": {
        "id": "88JnJ1jN3w7j"
      },
      "execution_count": 191,
      "outputs": []
    },
    {
      "cell_type": "markdown",
      "source": [
        "#### 3. Removing Punctuations"
      ],
      "metadata": {
        "id": "XkPnILGE3zoT"
      }
    },
    {
      "cell_type": "code",
      "source": [
        "# Remove Punctuations"
      ],
      "metadata": {
        "id": "vqbBqNaA33c0"
      },
      "execution_count": 192,
      "outputs": []
    },
    {
      "cell_type": "markdown",
      "source": [
        "#### 4. Removing URLs & Removing words and digits contain digits."
      ],
      "metadata": {
        "id": "Hlsf0x5436Go"
      }
    },
    {
      "cell_type": "code",
      "source": [
        "# Remove URLs & Remove words and digits contain digits"
      ],
      "metadata": {
        "id": "2sxKgKxu4Ip3"
      },
      "execution_count": 193,
      "outputs": []
    },
    {
      "cell_type": "markdown",
      "source": [
        "#### 5. Removing Stopwords & Removing White spaces"
      ],
      "metadata": {
        "id": "mT9DMSJo4nBL"
      }
    },
    {
      "cell_type": "code",
      "source": [
        "# Remove Stopwords"
      ],
      "metadata": {
        "id": "T2LSJh154s8W"
      },
      "execution_count": 194,
      "outputs": []
    },
    {
      "cell_type": "code",
      "source": [
        "# Remove White spaces"
      ],
      "metadata": {
        "id": "EgLJGffy4vm0"
      },
      "execution_count": 195,
      "outputs": []
    },
    {
      "cell_type": "markdown",
      "source": [
        "#### 6. Rephrase Text"
      ],
      "metadata": {
        "id": "c49ITxTc407N"
      }
    },
    {
      "cell_type": "code",
      "source": [
        "# Rephrase Text"
      ],
      "metadata": {
        "id": "foqY80Qu48N2"
      },
      "execution_count": 196,
      "outputs": []
    },
    {
      "cell_type": "markdown",
      "source": [
        "#### 7. Tokenization"
      ],
      "metadata": {
        "id": "OeJFEK0N496M"
      }
    },
    {
      "cell_type": "code",
      "source": [
        "# Tokenization"
      ],
      "metadata": {
        "id": "ijx1rUOS5CUU"
      },
      "execution_count": 197,
      "outputs": []
    },
    {
      "cell_type": "markdown",
      "source": [
        "#### 8. Text Normalization"
      ],
      "metadata": {
        "id": "9ExmJH0g5HBk"
      }
    },
    {
      "cell_type": "code",
      "source": [
        "# Normalizing Text (i.e., Stemming, Lemmatization etc.)"
      ],
      "metadata": {
        "id": "AIJ1a-Zc5PY8"
      },
      "execution_count": 198,
      "outputs": []
    },
    {
      "cell_type": "markdown",
      "source": [
        "##### Which text normalization technique have you used and why?"
      ],
      "metadata": {
        "id": "cJNqERVU536h"
      }
    },
    {
      "cell_type": "markdown",
      "source": [
        "Answer Here."
      ],
      "metadata": {
        "id": "Z9jKVxE06BC1"
      }
    },
    {
      "cell_type": "markdown",
      "source": [
        "#### 9. Part of speech tagging"
      ],
      "metadata": {
        "id": "k5UmGsbsOxih"
      }
    },
    {
      "cell_type": "code",
      "source": [
        "# POS Taging"
      ],
      "metadata": {
        "id": "btT3ZJBAO6Ik"
      },
      "execution_count": 199,
      "outputs": []
    },
    {
      "cell_type": "markdown",
      "source": [
        "#### 10. Text Vectorization"
      ],
      "metadata": {
        "id": "T0VqWOYE6DLQ"
      }
    },
    {
      "cell_type": "code",
      "source": [
        "# Vectorizing Text"
      ],
      "metadata": {
        "id": "yBRtdhth6JDE"
      },
      "execution_count": 200,
      "outputs": []
    },
    {
      "cell_type": "markdown",
      "source": [
        "##### Which text vectorization technique have you used and why?"
      ],
      "metadata": {
        "id": "qBMux9mC6MCf"
      }
    },
    {
      "cell_type": "markdown",
      "source": [
        "Answer Here."
      ],
      "metadata": {
        "id": "su2EnbCh6UKQ"
      }
    },
    {
      "cell_type": "markdown",
      "source": [
        "### 4. Feature Manipulation & Selection"
      ],
      "metadata": {
        "id": "-oLEiFgy-5Pf"
      }
    },
    {
      "cell_type": "markdown",
      "source": [
        "#### 1. Feature Manipulation"
      ],
      "metadata": {
        "id": "C74aWNz2AliB"
      }
    },
    {
      "cell_type": "code",
      "source": [
        "# Manipulate Features to minimize feature correlation and create new features"
      ],
      "metadata": {
        "id": "h1qC4yhBApWC"
      },
      "execution_count": 201,
      "outputs": []
    },
    {
      "cell_type": "markdown",
      "source": [
        "#### 2. Feature Selection"
      ],
      "metadata": {
        "id": "2DejudWSA-a0"
      }
    },
    {
      "cell_type": "code",
      "source": [
        "# Select your features wisely to avoid overfitting"
      ],
      "metadata": {
        "id": "YLhe8UmaBCEE"
      },
      "execution_count": 202,
      "outputs": []
    },
    {
      "cell_type": "markdown",
      "source": [
        "##### What all feature selection methods have you used  and why?"
      ],
      "metadata": {
        "id": "pEMng2IbBLp7"
      }
    },
    {
      "cell_type": "markdown",
      "source": [
        "Answer Here."
      ],
      "metadata": {
        "id": "rb2Lh6Z8BgGs"
      }
    },
    {
      "cell_type": "markdown",
      "source": [
        "##### Which all features you found important and why?"
      ],
      "metadata": {
        "id": "rAdphbQ9Bhjc"
      }
    },
    {
      "cell_type": "markdown",
      "source": [
        "Answer Here."
      ],
      "metadata": {
        "id": "fGgaEstsBnaf"
      }
    },
    {
      "cell_type": "markdown",
      "source": [
        "### 5. Data Transformation"
      ],
      "metadata": {
        "id": "TNVZ9zx19K6k"
      }
    },
    {
      "cell_type": "markdown",
      "source": [
        "#### Do you think that your data needs to be transformed? If yes, which transformation have you used. Explain Why?"
      ],
      "metadata": {
        "id": "nqoHp30x9hH9"
      }
    },
    {
      "cell_type": "code",
      "source": [
        "# Transform Your data"
      ],
      "metadata": {
        "id": "I6quWQ1T9rtH"
      },
      "execution_count": 203,
      "outputs": []
    },
    {
      "cell_type": "markdown",
      "source": [
        "### 6. Data Scaling"
      ],
      "metadata": {
        "id": "rMDnDkt2B6du"
      }
    },
    {
      "cell_type": "code",
      "source": [
        "# Scaling your data"
      ],
      "metadata": {
        "id": "dL9LWpySC6x_"
      },
      "execution_count": 204,
      "outputs": []
    },
    {
      "cell_type": "markdown",
      "source": [
        "##### Which method have you used to scale you data and why?"
      ],
      "metadata": {
        "id": "yiiVWRdJDDil"
      }
    },
    {
      "cell_type": "markdown",
      "source": [
        "### 7. Dimesionality Reduction"
      ],
      "metadata": {
        "id": "1UUpS68QDMuG"
      }
    },
    {
      "cell_type": "markdown",
      "source": [
        "##### Do you think that dimensionality reduction is needed? Explain Why?"
      ],
      "metadata": {
        "id": "kexQrXU-DjzY"
      }
    },
    {
      "cell_type": "markdown",
      "source": [
        "Answer Here."
      ],
      "metadata": {
        "id": "GGRlBsSGDtTQ"
      }
    },
    {
      "cell_type": "code",
      "source": [
        "# DImensionality Reduction (If needed)"
      ],
      "metadata": {
        "id": "kQfvxBBHDvCa"
      },
      "execution_count": 205,
      "outputs": []
    },
    {
      "cell_type": "markdown",
      "source": [
        "##### Which dimensionality reduction technique have you used and why? (If dimensionality reduction done on dataset.)"
      ],
      "metadata": {
        "id": "T5CmagL3EC8N"
      }
    },
    {
      "cell_type": "markdown",
      "source": [
        "Answer Here."
      ],
      "metadata": {
        "id": "ZKr75IDuEM7t"
      }
    },
    {
      "cell_type": "markdown",
      "source": [
        "### 8. Data Splitting"
      ],
      "metadata": {
        "id": "BhH2vgX9EjGr"
      }
    },
    {
      "cell_type": "code",
      "source": [
        "# Split your data to train and test. Choose Splitting ratio wisely."
      ],
      "metadata": {
        "id": "0CTyd2UwEyNM"
      },
      "execution_count": 206,
      "outputs": []
    },
    {
      "cell_type": "markdown",
      "source": [
        "##### What data splitting ratio have you used and why?"
      ],
      "metadata": {
        "id": "qjKvONjwE8ra"
      }
    },
    {
      "cell_type": "markdown",
      "source": [
        "Answer Here."
      ],
      "metadata": {
        "id": "Y2lJ8cobFDb_"
      }
    },
    {
      "cell_type": "markdown",
      "source": [
        "### 9. Handling Imbalanced Dataset"
      ],
      "metadata": {
        "id": "P1XJ9OREExlT"
      }
    },
    {
      "cell_type": "markdown",
      "source": [
        "##### Do you think the dataset is imbalanced? Explain Why."
      ],
      "metadata": {
        "id": "VFOzZv6IFROw"
      }
    },
    {
      "cell_type": "markdown",
      "source": [
        "Answer Here."
      ],
      "metadata": {
        "id": "GeKDIv7pFgcC"
      }
    },
    {
      "cell_type": "code",
      "source": [
        "# Handling Imbalanced Dataset (If needed)"
      ],
      "metadata": {
        "id": "nQsRhhZLFiDs"
      },
      "execution_count": 207,
      "outputs": []
    },
    {
      "cell_type": "markdown",
      "source": [
        "##### What technique did you use to handle the imbalance dataset and why? (If needed to be balanced)"
      ],
      "metadata": {
        "id": "TIqpNgepFxVj"
      }
    },
    {
      "cell_type": "markdown",
      "source": [
        "Answer Here."
      ],
      "metadata": {
        "id": "qbet1HwdGDTz"
      }
    },
    {
      "cell_type": "markdown",
      "source": [
        "## ***7. ML Model Implementation***"
      ],
      "metadata": {
        "id": "VfCC591jGiD4"
      }
    },
    {
      "cell_type": "markdown",
      "source": [
        "### ML Model - 1"
      ],
      "metadata": {
        "id": "OB4l2ZhMeS1U"
      }
    },
    {
      "cell_type": "code",
      "source": [
        "# ML Model - 1 Implementation\n",
        "\n",
        "# Fit the Algorithm\n",
        "\n",
        "# Predict on the model"
      ],
      "metadata": {
        "id": "7ebyywQieS1U"
      },
      "execution_count": 208,
      "outputs": []
    },
    {
      "cell_type": "markdown",
      "source": [
        "#### 1. Explain the ML Model used and it's performance using Evaluation metric Score Chart."
      ],
      "metadata": {
        "id": "ArJBuiUVfxKd"
      }
    },
    {
      "cell_type": "code",
      "source": [
        "# Visualizing evaluation Metric Score chart"
      ],
      "metadata": {
        "id": "rqD5ZohzfxKe"
      },
      "execution_count": 209,
      "outputs": []
    },
    {
      "cell_type": "markdown",
      "source": [
        "#### 2. Cross- Validation & Hyperparameter Tuning"
      ],
      "metadata": {
        "id": "4qY1EAkEfxKe"
      }
    },
    {
      "cell_type": "code",
      "source": [
        "# ML Model - 1 Implementation with hyperparameter optimization techniques (i.e., GridSearch CV, RandomSearch CV, Bayesian Optimization etc.)\n",
        "\n",
        "# Fit the Algorithm\n",
        "\n",
        "# Predict on the model"
      ],
      "metadata": {
        "id": "Dy61ujd6fxKe"
      },
      "execution_count": 210,
      "outputs": []
    },
    {
      "cell_type": "markdown",
      "source": [
        "##### Which hyperparameter optimization technique have you used and why?"
      ],
      "metadata": {
        "id": "PiV4Ypx8fxKe"
      }
    },
    {
      "cell_type": "markdown",
      "source": [
        "Answer Here."
      ],
      "metadata": {
        "id": "negyGRa7fxKf"
      }
    },
    {
      "cell_type": "markdown",
      "source": [
        "##### Have you seen any improvement? Note down the improvement with updates Evaluation metric Score Chart."
      ],
      "metadata": {
        "id": "TfvqoZmBfxKf"
      }
    },
    {
      "cell_type": "markdown",
      "source": [
        "Answer Here."
      ],
      "metadata": {
        "id": "OaLui8CcfxKf"
      }
    },
    {
      "cell_type": "markdown",
      "source": [
        "### ML Model - 2"
      ],
      "metadata": {
        "id": "dJ2tPlVmpsJ0"
      }
    },
    {
      "cell_type": "markdown",
      "source": [
        "#### 1. Explain the ML Model used and it's performance using Evaluation metric Score Chart."
      ],
      "metadata": {
        "id": "JWYfwnehpsJ1"
      }
    },
    {
      "cell_type": "code",
      "source": [
        "# Visualizing evaluation Metric Score chart"
      ],
      "metadata": {
        "id": "yEl-hgQWpsJ1"
      },
      "execution_count": 211,
      "outputs": []
    },
    {
      "cell_type": "markdown",
      "source": [
        "#### 2. Cross- Validation & Hyperparameter Tuning"
      ],
      "metadata": {
        "id": "-jK_YjpMpsJ2"
      }
    },
    {
      "cell_type": "code",
      "source": [
        "# ML Model - 1 Implementation with hyperparameter optimization techniques (i.e., GridSearch CV, RandomSearch CV, Bayesian Optimization etc.)\n",
        "\n",
        "# Fit the Algorithm\n",
        "\n",
        "# Predict on the model"
      ],
      "metadata": {
        "id": "Dn0EOfS6psJ2"
      },
      "execution_count": 212,
      "outputs": []
    },
    {
      "cell_type": "markdown",
      "source": [
        "##### Which hyperparameter optimization technique have you used and why?"
      ],
      "metadata": {
        "id": "HAih1iBOpsJ2"
      }
    },
    {
      "cell_type": "markdown",
      "source": [
        "Answer Here."
      ],
      "metadata": {
        "id": "9kBgjYcdpsJ2"
      }
    },
    {
      "cell_type": "markdown",
      "source": [
        "##### Have you seen any improvement? Note down the improvement with updates Evaluation metric Score Chart."
      ],
      "metadata": {
        "id": "zVGeBEFhpsJ2"
      }
    },
    {
      "cell_type": "markdown",
      "source": [
        "Answer Here."
      ],
      "metadata": {
        "id": "74yRdG6UpsJ3"
      }
    },
    {
      "cell_type": "markdown",
      "source": [
        "#### 3. Explain each evaluation metric's indication towards business and the business impact pf the ML model used."
      ],
      "metadata": {
        "id": "bmKjuQ-FpsJ3"
      }
    },
    {
      "cell_type": "markdown",
      "source": [
        "Answer Here."
      ],
      "metadata": {
        "id": "BDKtOrBQpsJ3"
      }
    },
    {
      "cell_type": "markdown",
      "source": [
        "### ML Model - 3"
      ],
      "metadata": {
        "id": "Fze-IPXLpx6K"
      }
    },
    {
      "cell_type": "code",
      "source": [
        "# ML Model - 3 Implementation\n",
        "\n",
        "# Fit the Algorithm\n",
        "\n",
        "# Predict on the model"
      ],
      "metadata": {
        "id": "FFrSXAtrpx6M"
      },
      "execution_count": 213,
      "outputs": []
    },
    {
      "cell_type": "markdown",
      "source": [
        "#### 1. Explain the ML Model used and it's performance using Evaluation metric Score Chart."
      ],
      "metadata": {
        "id": "7AN1z2sKpx6M"
      }
    },
    {
      "cell_type": "code",
      "source": [
        "# Visualizing evaluation Metric Score chart"
      ],
      "metadata": {
        "id": "xIY4lxxGpx6M"
      },
      "execution_count": 214,
      "outputs": []
    },
    {
      "cell_type": "markdown",
      "source": [
        "#### 2. Cross- Validation & Hyperparameter Tuning"
      ],
      "metadata": {
        "id": "9PIHJqyupx6M"
      }
    },
    {
      "cell_type": "code",
      "source": [
        "# ML Model - 3 Implementation with hyperparameter optimization techniques (i.e., GridSearch CV, RandomSearch CV, Bayesian Optimization etc.)\n",
        "\n",
        "# Fit the Algorithm\n",
        "\n",
        "# Predict on the model"
      ],
      "metadata": {
        "id": "eSVXuaSKpx6M"
      },
      "execution_count": 215,
      "outputs": []
    },
    {
      "cell_type": "markdown",
      "source": [
        "##### Which hyperparameter optimization technique have you used and why?"
      ],
      "metadata": {
        "id": "_-qAgymDpx6N"
      }
    },
    {
      "cell_type": "markdown",
      "source": [
        "Answer Here."
      ],
      "metadata": {
        "id": "lQMffxkwpx6N"
      }
    },
    {
      "cell_type": "markdown",
      "source": [
        "##### Have you seen any improvement? Note down the improvement with updates Evaluation metric Score Chart."
      ],
      "metadata": {
        "id": "Z-hykwinpx6N"
      }
    },
    {
      "cell_type": "markdown",
      "source": [
        "Answer Here."
      ],
      "metadata": {
        "id": "MzVzZC6opx6N"
      }
    },
    {
      "cell_type": "markdown",
      "source": [
        "### 1. Which Evaluation metrics did you consider for a positive business impact and why?"
      ],
      "metadata": {
        "id": "h_CCil-SKHpo"
      }
    },
    {
      "cell_type": "markdown",
      "source": [
        "Answer Here."
      ],
      "metadata": {
        "id": "jHVz9hHDKFms"
      }
    },
    {
      "cell_type": "markdown",
      "source": [
        "### 2. Which ML model did you choose from the above created models as your final prediction model and why?"
      ],
      "metadata": {
        "id": "cBFFvTBNJzUa"
      }
    },
    {
      "cell_type": "markdown",
      "source": [
        "Answer Here."
      ],
      "metadata": {
        "id": "6ksF5Q1LKTVm"
      }
    },
    {
      "cell_type": "markdown",
      "source": [
        "### 3. Explain the model which you have used and the feature importance using any model explainability tool?"
      ],
      "metadata": {
        "id": "HvGl1hHyA_VK"
      }
    },
    {
      "cell_type": "markdown",
      "source": [
        "Answer Here."
      ],
      "metadata": {
        "id": "YnvVTiIxBL-C"
      }
    },
    {
      "cell_type": "markdown",
      "source": [
        "## ***8.*** ***Future Work (Optional)***"
      ],
      "metadata": {
        "id": "EyNgTHvd2WFk"
      }
    },
    {
      "cell_type": "markdown",
      "source": [
        "### 1. Save the best performing ml model in a pickle file or joblib file format for deployment process.\n"
      ],
      "metadata": {
        "id": "KH5McJBi2d8v"
      }
    },
    {
      "cell_type": "code",
      "source": [
        "# Save the File"
      ],
      "metadata": {
        "id": "bQIANRl32f4J"
      },
      "execution_count": 216,
      "outputs": []
    },
    {
      "cell_type": "markdown",
      "source": [
        "### 2. Again Load the saved model file and try to predict unseen data for a sanity check.\n"
      ],
      "metadata": {
        "id": "iW_Lq9qf2h6X"
      }
    },
    {
      "cell_type": "code",
      "source": [
        "# Load the File and predict unseen data."
      ],
      "metadata": {
        "id": "oEXk9ydD2nVC"
      },
      "execution_count": 217,
      "outputs": []
    },
    {
      "cell_type": "markdown",
      "source": [
        "### ***Congrats! Your model is successfully created and ready for deployment on a live server for a real user interaction !!!***"
      ],
      "metadata": {
        "id": "-Kee-DAl2viO"
      }
    },
    {
      "cell_type": "markdown",
      "source": [
        "# **Conclusion**"
      ],
      "metadata": {
        "id": "gCX9965dhzqZ"
      }
    },
    {
      "cell_type": "markdown",
      "source": [
        "Write the conclusion here."
      ],
      "metadata": {
        "id": "Fjb1IsQkh3yE"
      }
    },
    {
      "cell_type": "markdown",
      "source": [
        "### ***Hurrah! You have successfully completed your Machine Learning Capstone Project !!!***"
      ],
      "metadata": {
        "id": "gIfDvo9L0UH2"
      }
    }
  ]
}